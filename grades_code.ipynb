{
  "nbformat": 4,
  "nbformat_minor": 0,
  "metadata": {
    "colab": {
      "name": "phy_mark.ipynb",
      "provenance": []
    },
    "kernelspec": {
      "name": "python3",
      "display_name": "Python 3"
    },
    "language_info": {
      "name": "python"
    }
  },
  "cells": [
    {
      "cell_type": "code",
      "execution_count": 121,
      "metadata": {
        "id": "nTvODEnhd3rC"
      },
      "outputs": [],
      "source": [
        "import numpy as np\n",
        "import pandas as pd\n",
        "import matplotlib.pyplot as plt\n",
        "import seaborn as sns\n",
        "import csv\n",
        "\n",
        "\n",
        "import warnings\n",
        "warnings.filterwarnings('ignore')\n",
        "\n",
        "df = pd.read_csv('psy_mark.csv')\n",
        "\n",
        "None"
      ]
    },
    {
      "cell_type": "code",
      "source": [
        "df = df[df.columns[np.arange(1,14)]]"
      ],
      "metadata": {
        "id": "-Lo3INCUudxu"
      },
      "execution_count": 122,
      "outputs": []
    },
    {
      "cell_type": "code",
      "source": [
        "df"
      ],
      "metadata": {
        "id": "aVqkVpocMPdj",
        "colab": {
          "base_uri": "https://localhost:8080/",
          "height": 792
        },
        "outputId": "864c35e5-f71b-40e7-d879-727c39f46b68"
      },
      "execution_count": 123,
      "outputs": [
        {
          "output_type": "execute_result",
          "data": {
            "text/plain": [
              "    Ваш средний балл. Например 7.38  Ваш курс. Ваш пол? Кем вы себя считаете?  \\\n",
              "0                              8.79          2  Мужской            Экстраверт   \n",
              "1                              7.38          2  Женский             Интроверт   \n",
              "2                              9.17          2  Мужской              Амбиверт   \n",
              "3                              9.30          1  Мужской              Амбиверт   \n",
              "4                              8.13          1  Мужской            Экстраверт   \n",
              "..                              ...        ...      ...                   ...   \n",
              "225                            8.96          4  Мужской              Амбиверт   \n",
              "226                             7.5          4  Мужской             Интроверт   \n",
              "227                            5.86          4  Мужской              Амбиверт   \n",
              "228                             6.2          4  Мужской              Амбиверт   \n",
              "229                            5.66          4  Мужской              Амбиверт   \n",
              "\n",
              "    Вы курите? Вы пьёте алкоголь? Играете в компьютерные игры?  \\\n",
              "0      Не курю                Пью                    Да, часто   \n",
              "1      Не курю                Пью                   Да, иногда   \n",
              "2      Не курю                Пью                   Да, иногда   \n",
              "3      Не курю                Пью                   Да, иногда   \n",
              "4      Не курю                Пью                    Да, редко   \n",
              "..         ...                ...                          ...   \n",
              "225    Не курю                Пью                          Нет   \n",
              "226    Не курю             Не пью                   Да, иногда   \n",
              "227    Не курю             Не пью                    Да, часто   \n",
              "228    Не курю             Не пью                   Да, иногда   \n",
              "229       Курю                Пью                          Нет   \n",
              "\n",
              "    Часто гуляете на свежем воздухе? Занимаетесь спортом?  \\\n",
              "0                                Нет          Да, немного   \n",
              "1                                 Да          Да, немного   \n",
              "2                                Нет          Да, немного   \n",
              "3                                 Да            Да, много   \n",
              "4                                 Да          Да, немного   \n",
              "..                               ...                  ...   \n",
              "225                               Да            Да, много   \n",
              "226                              Нет          Да, немного   \n",
              "227                              Нет                  Нет   \n",
              "228                               Да            Да, много   \n",
              "229                               Да                  Нет   \n",
              "\n",
              "    Много проводите время в соц.сетях? Соблюдаете порядок на рабочем месте?  \\\n",
              "0                                  Нет                                  Нет   \n",
              "1                                   Да                                   Да   \n",
              "2                                   Да                                   Да   \n",
              "3                                   Да                                  Нет   \n",
              "4                                   Да                                  Нет   \n",
              "..                                 ...                                  ...   \n",
              "225                                 Да                                   Да   \n",
              "226                                Нет                                  Нет   \n",
              "227                                 Да                                   Да   \n",
              "228                                 Да                                  Нет   \n",
              "229                                 Да                                  Нет   \n",
              "\n",
              "    Была ли у вас золотая медаль в школе?  \\\n",
              "0                                     Нет   \n",
              "1                                      Да   \n",
              "2                                      Да   \n",
              "3                                     Нет   \n",
              "4                                     Нет   \n",
              "..                                    ...   \n",
              "225                                    Да   \n",
              "226                                    Да   \n",
              "227                                   Нет   \n",
              "228                                    Да   \n",
              "229                                   Нет   \n",
              "\n",
              "        Списываете ли вы домашнее задание?  \n",
              "0                        Катать - это моё)  \n",
              "1    В основном сам, но бывает, что катаю.  \n",
              "2                      Делаю почти всё сам  \n",
              "3                        Катать - это моё)  \n",
              "4    В основном сам, но бывает, что катаю.  \n",
              "..                                     ...  \n",
              "225                      Катать - это моё)  \n",
              "226  В основном сам, но бывает, что катаю.  \n",
              "227                      Катать - это моё)  \n",
              "228  В основном сам, но бывает, что катаю.  \n",
              "229  В основном сам, но бывает, что катаю.  \n",
              "\n",
              "[230 rows x 13 columns]"
            ],
            "text/html": [
              "\n",
              "  <div id=\"df-600396ec-5c3c-45c5-8ad9-4ca340be7113\">\n",
              "    <div class=\"colab-df-container\">\n",
              "      <div>\n",
              "<style scoped>\n",
              "    .dataframe tbody tr th:only-of-type {\n",
              "        vertical-align: middle;\n",
              "    }\n",
              "\n",
              "    .dataframe tbody tr th {\n",
              "        vertical-align: top;\n",
              "    }\n",
              "\n",
              "    .dataframe thead th {\n",
              "        text-align: right;\n",
              "    }\n",
              "</style>\n",
              "<table border=\"1\" class=\"dataframe\">\n",
              "  <thead>\n",
              "    <tr style=\"text-align: right;\">\n",
              "      <th></th>\n",
              "      <th>Ваш средний балл. Например 7.38</th>\n",
              "      <th>Ваш курс.</th>\n",
              "      <th>Ваш пол?</th>\n",
              "      <th>Кем вы себя считаете?</th>\n",
              "      <th>Вы курите?</th>\n",
              "      <th>Вы пьёте алкоголь?</th>\n",
              "      <th>Играете в компьютерные игры?</th>\n",
              "      <th>Часто гуляете на свежем воздухе?</th>\n",
              "      <th>Занимаетесь спортом?</th>\n",
              "      <th>Много проводите время в соц.сетях?</th>\n",
              "      <th>Соблюдаете порядок на рабочем месте?</th>\n",
              "      <th>Была ли у вас золотая медаль в школе?</th>\n",
              "      <th>Списываете ли вы домашнее задание?</th>\n",
              "    </tr>\n",
              "  </thead>\n",
              "  <tbody>\n",
              "    <tr>\n",
              "      <th>0</th>\n",
              "      <td>8.79</td>\n",
              "      <td>2</td>\n",
              "      <td>Мужской</td>\n",
              "      <td>Экстраверт</td>\n",
              "      <td>Не курю</td>\n",
              "      <td>Пью</td>\n",
              "      <td>Да, часто</td>\n",
              "      <td>Нет</td>\n",
              "      <td>Да, немного</td>\n",
              "      <td>Нет</td>\n",
              "      <td>Нет</td>\n",
              "      <td>Нет</td>\n",
              "      <td>Катать - это моё)</td>\n",
              "    </tr>\n",
              "    <tr>\n",
              "      <th>1</th>\n",
              "      <td>7.38</td>\n",
              "      <td>2</td>\n",
              "      <td>Женский</td>\n",
              "      <td>Интроверт</td>\n",
              "      <td>Не курю</td>\n",
              "      <td>Пью</td>\n",
              "      <td>Да, иногда</td>\n",
              "      <td>Да</td>\n",
              "      <td>Да, немного</td>\n",
              "      <td>Да</td>\n",
              "      <td>Да</td>\n",
              "      <td>Да</td>\n",
              "      <td>В основном сам, но бывает, что катаю.</td>\n",
              "    </tr>\n",
              "    <tr>\n",
              "      <th>2</th>\n",
              "      <td>9.17</td>\n",
              "      <td>2</td>\n",
              "      <td>Мужской</td>\n",
              "      <td>Амбиверт</td>\n",
              "      <td>Не курю</td>\n",
              "      <td>Пью</td>\n",
              "      <td>Да, иногда</td>\n",
              "      <td>Нет</td>\n",
              "      <td>Да, немного</td>\n",
              "      <td>Да</td>\n",
              "      <td>Да</td>\n",
              "      <td>Да</td>\n",
              "      <td>Делаю почти всё сам</td>\n",
              "    </tr>\n",
              "    <tr>\n",
              "      <th>3</th>\n",
              "      <td>9.30</td>\n",
              "      <td>1</td>\n",
              "      <td>Мужской</td>\n",
              "      <td>Амбиверт</td>\n",
              "      <td>Не курю</td>\n",
              "      <td>Пью</td>\n",
              "      <td>Да, иногда</td>\n",
              "      <td>Да</td>\n",
              "      <td>Да, много</td>\n",
              "      <td>Да</td>\n",
              "      <td>Нет</td>\n",
              "      <td>Нет</td>\n",
              "      <td>Катать - это моё)</td>\n",
              "    </tr>\n",
              "    <tr>\n",
              "      <th>4</th>\n",
              "      <td>8.13</td>\n",
              "      <td>1</td>\n",
              "      <td>Мужской</td>\n",
              "      <td>Экстраверт</td>\n",
              "      <td>Не курю</td>\n",
              "      <td>Пью</td>\n",
              "      <td>Да, редко</td>\n",
              "      <td>Да</td>\n",
              "      <td>Да, немного</td>\n",
              "      <td>Да</td>\n",
              "      <td>Нет</td>\n",
              "      <td>Нет</td>\n",
              "      <td>В основном сам, но бывает, что катаю.</td>\n",
              "    </tr>\n",
              "    <tr>\n",
              "      <th>...</th>\n",
              "      <td>...</td>\n",
              "      <td>...</td>\n",
              "      <td>...</td>\n",
              "      <td>...</td>\n",
              "      <td>...</td>\n",
              "      <td>...</td>\n",
              "      <td>...</td>\n",
              "      <td>...</td>\n",
              "      <td>...</td>\n",
              "      <td>...</td>\n",
              "      <td>...</td>\n",
              "      <td>...</td>\n",
              "      <td>...</td>\n",
              "    </tr>\n",
              "    <tr>\n",
              "      <th>225</th>\n",
              "      <td>8.96</td>\n",
              "      <td>4</td>\n",
              "      <td>Мужской</td>\n",
              "      <td>Амбиверт</td>\n",
              "      <td>Не курю</td>\n",
              "      <td>Пью</td>\n",
              "      <td>Нет</td>\n",
              "      <td>Да</td>\n",
              "      <td>Да, много</td>\n",
              "      <td>Да</td>\n",
              "      <td>Да</td>\n",
              "      <td>Да</td>\n",
              "      <td>Катать - это моё)</td>\n",
              "    </tr>\n",
              "    <tr>\n",
              "      <th>226</th>\n",
              "      <td>7.5</td>\n",
              "      <td>4</td>\n",
              "      <td>Мужской</td>\n",
              "      <td>Интроверт</td>\n",
              "      <td>Не курю</td>\n",
              "      <td>Не пью</td>\n",
              "      <td>Да, иногда</td>\n",
              "      <td>Нет</td>\n",
              "      <td>Да, немного</td>\n",
              "      <td>Нет</td>\n",
              "      <td>Нет</td>\n",
              "      <td>Да</td>\n",
              "      <td>В основном сам, но бывает, что катаю.</td>\n",
              "    </tr>\n",
              "    <tr>\n",
              "      <th>227</th>\n",
              "      <td>5.86</td>\n",
              "      <td>4</td>\n",
              "      <td>Мужской</td>\n",
              "      <td>Амбиверт</td>\n",
              "      <td>Не курю</td>\n",
              "      <td>Не пью</td>\n",
              "      <td>Да, часто</td>\n",
              "      <td>Нет</td>\n",
              "      <td>Нет</td>\n",
              "      <td>Да</td>\n",
              "      <td>Да</td>\n",
              "      <td>Нет</td>\n",
              "      <td>Катать - это моё)</td>\n",
              "    </tr>\n",
              "    <tr>\n",
              "      <th>228</th>\n",
              "      <td>6.2</td>\n",
              "      <td>4</td>\n",
              "      <td>Мужской</td>\n",
              "      <td>Амбиверт</td>\n",
              "      <td>Не курю</td>\n",
              "      <td>Не пью</td>\n",
              "      <td>Да, иногда</td>\n",
              "      <td>Да</td>\n",
              "      <td>Да, много</td>\n",
              "      <td>Да</td>\n",
              "      <td>Нет</td>\n",
              "      <td>Да</td>\n",
              "      <td>В основном сам, но бывает, что катаю.</td>\n",
              "    </tr>\n",
              "    <tr>\n",
              "      <th>229</th>\n",
              "      <td>5.66</td>\n",
              "      <td>4</td>\n",
              "      <td>Мужской</td>\n",
              "      <td>Амбиверт</td>\n",
              "      <td>Курю</td>\n",
              "      <td>Пью</td>\n",
              "      <td>Нет</td>\n",
              "      <td>Да</td>\n",
              "      <td>Нет</td>\n",
              "      <td>Да</td>\n",
              "      <td>Нет</td>\n",
              "      <td>Нет</td>\n",
              "      <td>В основном сам, но бывает, что катаю.</td>\n",
              "    </tr>\n",
              "  </tbody>\n",
              "</table>\n",
              "<p>230 rows × 13 columns</p>\n",
              "</div>\n",
              "      <button class=\"colab-df-convert\" onclick=\"convertToInteractive('df-600396ec-5c3c-45c5-8ad9-4ca340be7113')\"\n",
              "              title=\"Convert this dataframe to an interactive table.\"\n",
              "              style=\"display:none;\">\n",
              "        \n",
              "  <svg xmlns=\"http://www.w3.org/2000/svg\" height=\"24px\"viewBox=\"0 0 24 24\"\n",
              "       width=\"24px\">\n",
              "    <path d=\"M0 0h24v24H0V0z\" fill=\"none\"/>\n",
              "    <path d=\"M18.56 5.44l.94 2.06.94-2.06 2.06-.94-2.06-.94-.94-2.06-.94 2.06-2.06.94zm-11 1L8.5 8.5l.94-2.06 2.06-.94-2.06-.94L8.5 2.5l-.94 2.06-2.06.94zm10 10l.94 2.06.94-2.06 2.06-.94-2.06-.94-.94-2.06-.94 2.06-2.06.94z\"/><path d=\"M17.41 7.96l-1.37-1.37c-.4-.4-.92-.59-1.43-.59-.52 0-1.04.2-1.43.59L10.3 9.45l-7.72 7.72c-.78.78-.78 2.05 0 2.83L4 21.41c.39.39.9.59 1.41.59.51 0 1.02-.2 1.41-.59l7.78-7.78 2.81-2.81c.8-.78.8-2.07 0-2.86zM5.41 20L4 18.59l7.72-7.72 1.47 1.35L5.41 20z\"/>\n",
              "  </svg>\n",
              "      </button>\n",
              "      \n",
              "  <style>\n",
              "    .colab-df-container {\n",
              "      display:flex;\n",
              "      flex-wrap:wrap;\n",
              "      gap: 12px;\n",
              "    }\n",
              "\n",
              "    .colab-df-convert {\n",
              "      background-color: #E8F0FE;\n",
              "      border: none;\n",
              "      border-radius: 50%;\n",
              "      cursor: pointer;\n",
              "      display: none;\n",
              "      fill: #1967D2;\n",
              "      height: 32px;\n",
              "      padding: 0 0 0 0;\n",
              "      width: 32px;\n",
              "    }\n",
              "\n",
              "    .colab-df-convert:hover {\n",
              "      background-color: #E2EBFA;\n",
              "      box-shadow: 0px 1px 2px rgba(60, 64, 67, 0.3), 0px 1px 3px 1px rgba(60, 64, 67, 0.15);\n",
              "      fill: #174EA6;\n",
              "    }\n",
              "\n",
              "    [theme=dark] .colab-df-convert {\n",
              "      background-color: #3B4455;\n",
              "      fill: #D2E3FC;\n",
              "    }\n",
              "\n",
              "    [theme=dark] .colab-df-convert:hover {\n",
              "      background-color: #434B5C;\n",
              "      box-shadow: 0px 1px 3px 1px rgba(0, 0, 0, 0.15);\n",
              "      filter: drop-shadow(0px 1px 2px rgba(0, 0, 0, 0.3));\n",
              "      fill: #FFFFFF;\n",
              "    }\n",
              "  </style>\n",
              "\n",
              "      <script>\n",
              "        const buttonEl =\n",
              "          document.querySelector('#df-600396ec-5c3c-45c5-8ad9-4ca340be7113 button.colab-df-convert');\n",
              "        buttonEl.style.display =\n",
              "          google.colab.kernel.accessAllowed ? 'block' : 'none';\n",
              "\n",
              "        async function convertToInteractive(key) {\n",
              "          const element = document.querySelector('#df-600396ec-5c3c-45c5-8ad9-4ca340be7113');\n",
              "          const dataTable =\n",
              "            await google.colab.kernel.invokeFunction('convertToInteractive',\n",
              "                                                     [key], {});\n",
              "          if (!dataTable) return;\n",
              "\n",
              "          const docLinkHtml = 'Like what you see? Visit the ' +\n",
              "            '<a target=\"_blank\" href=https://colab.research.google.com/notebooks/data_table.ipynb>data table notebook</a>'\n",
              "            + ' to learn more about interactive tables.';\n",
              "          element.innerHTML = '';\n",
              "          dataTable['output_type'] = 'display_data';\n",
              "          await google.colab.output.renderOutput(dataTable, element);\n",
              "          const docLink = document.createElement('div');\n",
              "          docLink.innerHTML = docLinkHtml;\n",
              "          element.appendChild(docLink);\n",
              "        }\n",
              "      </script>\n",
              "    </div>\n",
              "  </div>\n",
              "  "
            ]
          },
          "metadata": {},
          "execution_count": 123
        }
      ]
    },
    {
      "cell_type": "markdown",
      "source": [
        "Очистка данных"
      ],
      "metadata": {
        "id": "Ku5Z1q3-x09r"
      }
    },
    {
      "cell_type": "code",
      "source": [
        "df[\"Ваш средний балл. Например 7.38\"] = df[\"Ваш средний балл. Например 7.38\"].str.replace(',','.')"
      ],
      "metadata": {
        "id": "RC_ecnw9hCXU"
      },
      "execution_count": 124,
      "outputs": []
    },
    {
      "cell_type": "code",
      "source": [
        "print(df.shape)\n",
        "\n",
        "df = df[df[\"Ваш средний балл. Например 7.38\"].str.len().le(4)]\n",
        "print(df.shape)\n",
        "\n",
        "df[\"Ваш средний балл. Например 7.38\"] = pd.to_numeric(df[\"Ваш средний балл. Например 7.38\"], errors='coerce')\n",
        "\n",
        "df = df.loc[df[\"Ваш средний балл. Например 7.38\"] > 4.01]\n",
        "df = df.loc[df[\"Ваш средний балл. Например 7.38\"] < 9.98]\n",
        "print(df.shape)\n",
        "\n",
        "None"
      ],
      "metadata": {
        "colab": {
          "base_uri": "https://localhost:8080/"
        },
        "id": "nWpQ32idjSAq",
        "outputId": "7993e8c2-7912-4a4a-d590-11349324edd8"
      },
      "execution_count": 125,
      "outputs": [
        {
          "output_type": "stream",
          "name": "stdout",
          "text": [
            "(230, 13)\n",
            "(223, 13)\n",
            "(223, 13)\n"
          ]
        }
      ]
    },
    {
      "cell_type": "markdown",
      "source": [
        "One-hot кодирование"
      ],
      "metadata": {
        "id": "bT--8k1Cx5on"
      }
    },
    {
      "cell_type": "code",
      "source": [
        "multi_indicates = np.array([3, 6, 8, 12])\n",
        "non_multi_indicates = np.array([1, 2, 4, 5, 7, 9, 10, 11])\n",
        "\n",
        "multi_data = df[df.columns[multi_indicates]]\n",
        "non_multi_data = df[df.columns[non_multi_indicates]]"
      ],
      "metadata": {
        "id": "iyo5K3yG2Y-I"
      },
      "execution_count": 129,
      "outputs": []
    },
    {
      "cell_type": "code",
      "source": [
        "Y = df[\"Ваш средний балл. Например 7.38\"]\n",
        "d_1 = pd.get_dummies(multi_data, drop_first = False)\n",
        "d_2 = pd.get_dummies(non_multi_data, drop_first = True)\n",
        "\n",
        "data = pd.concat([Y, d_1, d_2], axis=1)\n",
        "data"
      ],
      "metadata": {
        "id": "7ZMc17KUxH0m"
      },
      "execution_count": 130,
      "outputs": []
    },
    {
      "cell_type": "markdown",
      "source": [
        "Функция отрисовки столбчатых диаграмм"
      ],
      "metadata": {
        "id": "PCqH_kjLxoxn"
      }
    },
    {
      "cell_type": "code",
      "source": [
        "norm = 6.8"
      ],
      "metadata": {
        "id": "bNL7Q8VvahJ2"
      },
      "execution_count": 133,
      "outputs": []
    },
    {
      "cell_type": "code",
      "source": [
        "def plot_set(name):\n",
        "    sns.set_style('ticks')\n",
        "    ax.bar(groups, counts, width = 0.4, bottom = 0, color = colors)\n",
        "\n",
        "    for i, v in enumerate(counts):\n",
        "      ax.text(i-0.1, v + 0.006, str(v + norm),\n",
        "              color = 'black', fontweight = 'bold')\n",
        "\n",
        "    plt.title(name, fontsize = 20)\n",
        "    plt.xlabel(None)\n",
        "    plt.xticks(fontsize=15)\n",
        "    plt.grid(False)\n",
        "\n",
        "    sns.despine(bottom=True, left=True)\n",
        "    ax.set_facecolor(\"white\")\n",
        "    plt.yticks([])\n",
        "\n",
        "\n",
        "    plt.show()\n"
      ],
      "metadata": {
        "id": "JHLcMDRYZ50o"
      },
      "execution_count": 134,
      "outputs": []
    },
    {
      "cell_type": "markdown",
      "source": [
        "Средний бал студентов"
      ],
      "metadata": {
        "id": "fp8ZYCRBxZ15"
      }
    },
    {
      "cell_type": "code",
      "source": [
        "mean = round(data[\"Ваш средний балл. Например 7.38\"].mean(), 2)\n",
        "print(round(mean, 2))"
      ],
      "metadata": {
        "colab": {
          "base_uri": "https://localhost:8080/"
        },
        "id": "lOu6ZoyL8_Mc",
        "outputId": "74aa4bd3-c65e-4667-d3ca-df0307ed7f77"
      },
      "execution_count": 135,
      "outputs": [
        {
          "output_type": "stream",
          "name": "stdout",
          "text": [
            "7.43\n"
          ]
        }
      ]
    },
    {
      "cell_type": "markdown",
      "source": [
        "Влияние пола на средний бал"
      ],
      "metadata": {
        "id": "aF3YX7K14TZQ"
      }
    },
    {
      "cell_type": "code",
      "source": [
        "m = data[data[\"Ваш пол?_Мужской\"] == 1]\n",
        "m_mean = round(m[\"Ваш средний балл. Например 7.38\"].mean(), 2)\n",
        "\n",
        "w = data[data[\"Ваш пол?_Мужской\"] == 0]\n",
        "w_mean = round(w[\"Ваш средний балл. Например 7.38\"].mean(), 2)"
      ],
      "metadata": {
        "id": "UVJZll914VLQ"
      },
      "execution_count": 136,
      "outputs": []
    },
    {
      "cell_type": "code",
      "source": [
        "groups = [\"Женщины\", \"Среднее\", \"Мужчины\"]\n",
        "counts = np.array([w_mean, mean, m_mean]) - norm \n",
        "colors= [\"lightsalmon\",\"palegoldenrod\", \"mediumaquamarine\"]\n",
        "fig, ax = plt.subplots(figsize=(7,7))\n",
        "\n",
        "plot_set(\"Гендер\")"
      ],
      "metadata": {
        "colab": {
          "base_uri": "https://localhost:8080/",
          "height": 457
        },
        "id": "jyNdfnLIf1j4",
        "outputId": "c1824287-0acf-42df-8055-d1fd1cb132f7"
      },
      "execution_count": 137,
      "outputs": [
        {
          "output_type": "display_data",
          "data": {
            "text/plain": [
              "<Figure size 504x504 with 1 Axes>"
            ],
            "image/png": "[encoded data removed]"
          },
          "metadata": {}
        }
      ]
    },
    {
      "cell_type": "markdown",
      "source": [
        "Интрове́рсия"
      ],
      "metadata": {
        "id": "STy-VmkQ1YQt"
      }
    },
    {
      "cell_type": "code",
      "source": [
        "ecstro = data[data[\"Кем вы себя считаете?_Экстраверт\"] == 1]\n",
        "ecstro_mean = round(ecstro[\"Ваш средний балл. Например 7.38\"].mean(), 2)\n",
        "\n",
        "ambi = data[data[\"Кем вы себя считаете?_Амбиверт\"] == 1]\n",
        "ambi_mean = round(ambi[\"Ваш средний балл. Например 7.38\"].mean(), 2)\n",
        "\n",
        "intro = data[data[\"Кем вы себя считаете?_Интроверт\"] == 1]\n",
        "intro_mean = round(intro[\"Ваш средний балл. Например 7.38\"].mean(), 2)"
      ],
      "metadata": {
        "id": "z8J_zOV2zNQx"
      },
      "execution_count": 138,
      "outputs": []
    },
    {
      "cell_type": "code",
      "source": [
        "groups = [\"Экстраверты\", \"Амбиверты\", \"Среднее\", \"Интроверты\"]\n",
        "counts = np.array([ecstro_mean, ambi_mean, mean, intro_mean]) - norm \n",
        "colors= [\"lightsalmon\", \"navajowhite\", \"palegoldenrod\", \"mediumseagreen\"]\n",
        "fig, ax = plt.subplots(figsize=(10,7))\n",
        "\n",
        "plot_set(\"Интрове́рсия\")"
      ],
      "metadata": {
        "colab": {
          "base_uri": "https://localhost:8080/",
          "height": 459
        },
        "id": "qdOBxxb0fke5",
        "outputId": "95ef5133-57f2-4f68-a193-1b251ce452fc"
      },
      "execution_count": 139,
      "outputs": [
        {
          "output_type": "display_data",
          "data": {
            "text/plain": [
              "<Figure size 720x504 with 1 Axes>"
            ],
            "image/png": "[encoded data removed]"
          },
          "metadata": {}
        }
      ]
    },
    {
      "cell_type": "markdown",
      "source": [
        "Алкоголь и курение"
      ],
      "metadata": {
        "id": "i-JI2tAc15OW"
      }
    },
    {
      "cell_type": "code",
      "source": [
        "bad = data[(data[\"Вы пьёте алкоголь?_Пью\"] == 1) & (data[\"Вы курите?_Не курю\"] == 0)]\n",
        "bad_mean = round(bad[\"Ваш средний балл. Например 7.38\"].mean(), 2)\n",
        "\n",
        "good = data[(data[\"Вы пьёте алкоголь?_Пью\"] == 0) & (data[\"Вы курите?_Не курю\"] == 1)]\n",
        "good_mean = round(good[\"Ваш средний балл. Например 7.38\"].mean(), 2)\n",
        "\n",
        "bad_pivo = data[data[\"Вы пьёте алкоголь?_Пью\"] == 1]\n",
        "bad_pivo_mean = round(bad_pivo[\"Ваш средний балл. Например 7.38\"].mean(), 2)\n",
        "\n",
        "good_pivo = data[data[\"Вы пьёте алкоголь?_Пью\"] == 0]\n",
        "good_pivo_mean = round(good_pivo[\"Ваш средний балл. Например 7.38\"].mean(), 2)\n",
        "\n",
        "bad_sigi= data[data[\"Вы курите?_Не курю\"] == 0]\n",
        "bad_sigi_mean = round(bad_sigi[\"Ваш средний балл. Например 7.38\"].mean(), 2)\n",
        "\n",
        "good_sigi = data[data[\"Вы курите?_Не курю\"] == 1]\n",
        "good_sigi_mean = round(good_sigi[\"Ваш средний балл. Например 7.38\"].mean(), 2)"
      ],
      "metadata": {
        "id": "f_TosCR03xzi"
      },
      "execution_count": 140,
      "outputs": []
    },
    {
      "cell_type": "code",
      "source": [
        "groups = [\"Курят\", \"Курят и пьют\", \"пьют\", \"Среднее\", \"Не пьют\", \"ЗОЖ\", \"Не курят\"]\n",
        "counts = np.array([bad_sigi_mean, bad_mean, bad_pivo_mean, mean, good_pivo_mean, good_mean, good_sigi_mean]) - norm \n",
        "colors= [\"lightsalmon\", \"navajowhite\", \"navajowhite\", \"palegoldenrod\", \"mediumaquamarine\", \"mediumaquamarine\", \"mediumseagreen\"]\n",
        "fig, ax = plt.subplots(figsize=(20,7))\n",
        "\n",
        "plot_set(\"Алкоголь и курение\")"
      ],
      "metadata": {
        "colab": {
          "base_uri": "https://localhost:8080/",
          "height": 457
        },
        "id": "8lQ_MHith9CB",
        "outputId": "ee9c8c25-5f58-458a-d2b5-d74c9273f004"
      },
      "execution_count": 172,
      "outputs": [
        {
          "output_type": "display_data",
          "data": {
            "text/plain": [
              "<Figure size 1440x504 with 1 Axes>"
            ],
            "image/png": "[encoded data removed]"
          },
          "metadata": {}
        }
      ]
    },
    {
      "cell_type": "markdown",
      "source": [
        "Компьютерные игры"
      ],
      "metadata": {
        "id": "KclS9yGn4y7K"
      }
    },
    {
      "cell_type": "code",
      "source": [
        "ocmnoga = data[data[\"Играете в компьютерные игры?_Да, часто\"] == 1]\n",
        "ocmnoga_mean = round(ocmnoga[\"Ваш средний балл. Например 7.38\"].mean(), 2)\n",
        "\n",
        "mnoga = data[data[\"Играете в компьютерные игры?_Да, иногда\"] == 1]\n",
        "mnoga_mean = round(mnoga[\"Ваш средний балл. Например 7.38\"].mean(), 2)\n",
        "\n",
        "nemnoga = data[data[\"Играете в компьютерные игры?_Да, редко\"] == 1]\n",
        "nemnoga_mean = round(nemnoga[\"Ваш средний балл. Например 7.38\"].mean(), 2)\n",
        "\n",
        "net = data[data[\"Играете в компьютерные игры?_Нет\"] == 1]\n",
        "net_mean = round(net[\"Ваш средний балл. Например 7.38\"].mean(), 2)"
      ],
      "metadata": {
        "id": "RE7Y-OD63nK8"
      },
      "execution_count": 142,
      "outputs": []
    },
    {
      "cell_type": "code",
      "source": [
        "groups = [\"Играю редко\", \"Играю много\", \"Среднее\", \"Играю иногда\", \"Не играю\"]\n",
        "counts = np.array([nemnoga_mean, ocmnoga_mean, mean, mnoga_mean, net_mean]) - norm \n",
        "colors= [\"lightsalmon\", \"navajowhite\", \"palegoldenrod\", \"mediumaquamarine\", \"mediumseagreen\"]\n",
        "fig, ax = plt.subplots(figsize=(15,7))\n",
        "\n",
        "plot_set(\"Компьютерные игры\")"
      ],
      "metadata": {
        "colab": {
          "base_uri": "https://localhost:8080/",
          "height": 457
        },
        "id": "ueJXsgXfkxx0",
        "outputId": "d2a838cd-3bb8-42f0-bfab-3ff14afe21e2"
      },
      "execution_count": 173,
      "outputs": [
        {
          "output_type": "display_data",
          "data": {
            "text/plain": [
              "<Figure size 1080x504 with 1 Axes>"
            ],
            "image/png": "[encoded data removed]"
          },
          "metadata": {}
        }
      ]
    },
    {
      "cell_type": "markdown",
      "source": [
        "Влияние прогулок на свежем воздухе на средний балл"
      ],
      "metadata": {
        "id": "9GtBv9RH5pTJ"
      }
    },
    {
      "cell_type": "code",
      "source": [
        "gul = data[data[\"Часто гуляете на свежем воздухе?_Нет\"] == 0]\n",
        "gul_mean = round(gul[\"Ваш средний балл. Например 7.38\"].mean(), 2)\n",
        "\n",
        "negul = data[data[\"Часто гуляете на свежем воздухе?_Нет\"] == 1]\n",
        "negul_mean = round(negul[\"Ваш средний балл. Например 7.38\"].mean(), 2)"
      ],
      "metadata": {
        "id": "avew1pZC6S51"
      },
      "execution_count": 145,
      "outputs": []
    },
    {
      "cell_type": "code",
      "source": [
        "groups = [\"Не гуляют\", \"Среднее\", \"Гуляют\"]\n",
        "counts = np.array([negul_mean, mean, gul_mean]) - norm \n",
        "colors= [\"lightsalmon\",\"palegoldenrod\", \"mediumaquamarine\"]\n",
        "fig, ax = plt.subplots(figsize=(7,7))\n",
        "\n",
        "plot_set(\"Прогулки на свежем воздухе\")"
      ],
      "metadata": {
        "colab": {
          "base_uri": "https://localhost:8080/",
          "height": 457
        },
        "id": "iLFnizlBnwlY",
        "outputId": "948ec3f6-97fb-442e-deee-079b3d0f4ed2"
      },
      "execution_count": 146,
      "outputs": [
        {
          "output_type": "display_data",
          "data": {
            "text/plain": [
              "<Figure size 504x504 with 1 Axes>"
            ],
            "image/png": "[encoded data removed]"
          },
          "metadata": {}
        }
      ]
    },
    {
      "cell_type": "markdown",
      "source": [
        "Спорт"
      ],
      "metadata": {
        "id": "GdyuZ_o07BJj"
      }
    },
    {
      "cell_type": "code",
      "source": [
        "so = data[data[\"Занимаетесь спортом?_Да, много\"] == 1]\n",
        "so_mean = round(so[\"Ваш средний балл. Например 7.38\"].mean(), 2)\n",
        "\n",
        "sm = data[data[\"Занимаетесь спортом?_Да, немного\"] == 1]\n",
        "sm_mean = round(sm[\"Ваш средний балл. Например 7.38\"].mean(), 2)\n",
        "\n",
        "n = data[data[\"Занимаетесь спортом?_Нет\"] == 1]\n",
        "n_mean = round(n[\"Ваш средний балл. Например 7.38\"].mean(), 2)\n",
        "\n",
        "n = data[data[\"Занимаетесь спортом?_Нет\"] == 1]\n",
        "n_mean = round(n[\"Ваш средний балл. Например 7.38\"].mean(), 2)"
      ],
      "metadata": {
        "id": "b57DeVAV734Z"
      },
      "execution_count": 147,
      "outputs": []
    },
    {
      "cell_type": "code",
      "source": [
        "groups = [\"Много занимаются спортом\", \"Среднее\", \"Занимаются немного\", \"Не занимаются\"]\n",
        "counts = np.array([so_mean, mean, sm_mean, n_mean]) - norm \n",
        "colors= [\"lightsalmon\", \"navajowhite\", \"palegoldenrod\", \"mediumseagreen\"]\n",
        "fig, ax = plt.subplots(figsize=(12,7))\n",
        "\n",
        "plot_set(\"Занятие спортом\")"
      ],
      "metadata": {
        "colab": {
          "base_uri": "https://localhost:8080/",
          "height": 457
        },
        "id": "2k3owAtSon8e",
        "outputId": "2073a93b-d952-4851-85a5-0b8c52708aac"
      },
      "execution_count": 174,
      "outputs": [
        {
          "output_type": "display_data",
          "data": {
            "text/plain": [
              "<Figure size 864x504 with 1 Axes>"
            ],
            "image/png": "[encoded data removed]"
          },
          "metadata": {}
        }
      ]
    },
    {
      "cell_type": "markdown",
      "source": [
        "Соцсети"
      ],
      "metadata": {
        "id": "eIpVV7sj8k-6"
      }
    },
    {
      "cell_type": "code",
      "source": [
        "seti  = data[data[\"Много проводите время в соц.сетях?_Нет\"] == 0]\n",
        "seti_mean = round(seti[\"Ваш средний балл. Например 7.38\"].mean(), 2)\n",
        "\n",
        "neseti = data[data[\"Много проводите время в соц.сетях?_Нет\"] == 1]\n",
        "neseti_mean = round(neseti[\"Ваш средний балл. Например 7.38\"].mean(), 2)"
      ],
      "metadata": {
        "id": "4eF1EnYI8rEY"
      },
      "execution_count": 149,
      "outputs": []
    },
    {
      "cell_type": "code",
      "source": [
        "groups = [\"Почти не сидят\", \"Среднее\", \"Сидят много\"]\n",
        "counts = np.array([neseti_mean, mean, seti_mean]) - norm \n",
        "colors= [\"lightsalmon\",\"palegoldenrod\", \"mediumaquamarine\"]\n",
        "fig, ax = plt.subplots(figsize=(7,7))\n",
        "\n",
        "plot_set(\"Сидят в сотсетях\")"
      ],
      "metadata": {
        "colab": {
          "base_uri": "https://localhost:8080/",
          "height": 457
        },
        "id": "LbylHuv-sx20",
        "outputId": "b9a2de25-18aa-4602-fc73-fee14b57e646"
      },
      "execution_count": 150,
      "outputs": [
        {
          "output_type": "display_data",
          "data": {
            "text/plain": [
              "<Figure size 504x504 with 1 Axes>"
            ],
            "image/png": "[encoded data removed]"
          },
          "metadata": {}
        }
      ]
    },
    {
      "cell_type": "markdown",
      "source": [
        "Порядок на рабочем месте"
      ],
      "metadata": {
        "id": "YRSVsrjX9Uyp"
      }
    },
    {
      "cell_type": "code",
      "source": [
        "poriadoc= data[data[\"Соблюдаете порядок на рабочем месте?_Нет\"] == 0]\n",
        "poriadoc_mean = round(poriadoc[\"Ваш средний балл. Например 7.38\"].mean(), 2)\n",
        "\n",
        "neporiadoc = data[data[\"Соблюдаете порядок на рабочем месте?_Нет\"] == 1]\n",
        "neporiadoc_mean = round(neporiadoc[\"Ваш средний балл. Например 7.38\"].mean(), 2)"
      ],
      "metadata": {
        "id": "VkFgcBC19X48"
      },
      "execution_count": 151,
      "outputs": []
    },
    {
      "cell_type": "code",
      "source": [
        "groups = [\"Не соблюдают\", \"Среднее\", \"Соблюдают\"]\n",
        "counts = np.array([neporiadoc_mean, mean, poriadoc_mean]) - norm \n",
        "colors= [\"lightsalmon\",\"palegoldenrod\", \"mediumaquamarine\"]\n",
        "fig, ax = plt.subplots(figsize=(7,7))\n",
        "\n",
        "plot_set(\"Соблюдение порядка на рабочем столе\")"
      ],
      "metadata": {
        "colab": {
          "base_uri": "https://localhost:8080/",
          "height": 458
        },
        "id": "wZXvQl2WuQeN",
        "outputId": "fcd6dfea-505a-4fa5-a76a-04280264eaa5"
      },
      "execution_count": 152,
      "outputs": [
        {
          "output_type": "display_data",
          "data": {
            "text/plain": [
              "<Figure size 504x504 with 1 Axes>"
            ],
            "image/png": "[encoded data removed]"
          },
          "metadata": {}
        }
      ]
    },
    {
      "cell_type": "markdown",
      "source": [
        "Золотая медаль"
      ],
      "metadata": {
        "id": "3VpX24nW-CG5"
      }
    },
    {
      "cell_type": "code",
      "source": [
        "zo = data[data[\"Была ли у вас золотая медаль в школе?_Нет\"] == 0]\n",
        "zo_mean = round(zo[\"Ваш средний балл. Например 7.38\"].mean(), 2)\n",
        "\n",
        "nezo = data[data[\"Была ли у вас золотая медаль в школе?_Нет\"] == 1]\n",
        "nezo_mean = round(nezo[\"Ваш средний балл. Например 7.38\"].mean(), 2)"
      ],
      "metadata": {
        "id": "9eDaxDQ_-Cbs"
      },
      "execution_count": 153,
      "outputs": []
    },
    {
      "cell_type": "code",
      "source": [
        "groups = [\"Не была\", \"Среднее\", \"Была\"]\n",
        "counts = np.array([nezo_mean, mean, zo_mean]) - norm \n",
        "colors= [\"lightsalmon\",\"palegoldenrod\", \"mediumaquamarine\"]\n",
        "fig, ax = plt.subplots(figsize=(7,7))\n",
        "\n",
        "plot_set(\"Была золотая медаль\")"
      ],
      "metadata": {
        "colab": {
          "base_uri": "https://localhost:8080/",
          "height": 457
        },
        "id": "CNZXtvq4vQHo",
        "outputId": "29a5744a-bc73-43b7-c511-983b15e2b6b7"
      },
      "execution_count": 154,
      "outputs": [
        {
          "output_type": "display_data",
          "data": {
            "text/plain": [
              "<Figure size 504x504 with 1 Axes>"
            ],
            "image/png": "[encoded data removed]"
          },
          "metadata": {}
        }
      ]
    },
    {
      "cell_type": "markdown",
      "source": [
        "Списывание домашнего задание"
      ],
      "metadata": {
        "id": "Ph1tpRUM-rXO"
      }
    },
    {
      "cell_type": "code",
      "source": [
        "sam = data[data[\"Списываете ли вы домашнее задание?_Делаю почти всё сам\"] == 1]\n",
        "sam_mean = round(sam[\"Ваш средний балл. Например 7.38\"].mean(), 2)\n",
        "\n",
        "skat = data[data[\"Списываете ли вы домашнее задание?_Катать - это моё)\"] == 1]\n",
        "skat_mean = round(skat[\"Ваш средний балл. Например 7.38\"].mean(), 2)\n",
        "\n",
        "mez = data[data[\"Списываете ли вы домашнее задание?_В основном сам, но бывает, что катаю.\"] == 1]\n",
        "mez_mean = round(mez[\"Ваш средний балл. Например 7.38\"].mean(), 2)"
      ],
      "metadata": {
        "id": "UF6qSL7i_zQ5"
      },
      "execution_count": 155,
      "outputs": []
    },
    {
      "cell_type": "code",
      "source": [
        "groups = [\"Списывают\", \"Среднее\", \"В основном сами\", \"Сами\"]\n",
        "counts = np.array([skat_mean, mean, mez_mean, sam_mean]) - norm \n",
        "colors= [\"lightsalmon\",\"palegoldenrod\", \"mediumaquamarine\", \"mediumseagreen\"]\n",
        "fig, ax = plt.subplots(figsize=(12,7))\n",
        "\n",
        "plot_set(\"Делают домашнее задание\")"
      ],
      "metadata": {
        "colab": {
          "base_uri": "https://localhost:8080/",
          "height": 457
        },
        "id": "RDqPggDjwjE2",
        "outputId": "b2c13608-4926-457c-d553-6f01f0825d01"
      },
      "execution_count": 156,
      "outputs": [
        {
          "output_type": "display_data",
          "data": {
            "text/plain": [
              "<Figure size 864x504 with 1 Axes>"
            ],
            "image/png": "[encoded data removed]"
          },
          "metadata": {}
        }
      ]
    },
    {
      "cell_type": "markdown",
      "source": [
        "Гистограммы"
      ],
      "metadata": {
        "id": "O1o_MhHT0Wvc"
      }
    },
    {
      "cell_type": "markdown",
      "source": [
        "Распитие алкоголя старшеми и младшими курсами"
      ],
      "metadata": {
        "id": "aVcKSr1MACjT"
      }
    },
    {
      "cell_type": "code",
      "source": [
        "per_pivo = data[(data[\"Вы пьёте алкоголь?_Пью\"] == 1) & (data[\"Ваш курс.\"] == 1) | (data[\"Ваш курс.\"] == 2)]\n",
        "\n",
        "per_nepivo = data[(data[\"Вы пьёте алкоголь?_Пью\"] == 0) & (data[\"Ваш курс.\"] == 1) | (data[\"Ваш курс.\"] == 2)]\n",
        "\n",
        "star_pivo = data[(data[\"Вы пьёте алкоголь?_Пью\"] == 1) & (data[\"Ваш курс.\"] == 3) | (data[\"Ваш курс.\"] == 4)]\n",
        "\n",
        "star_nepivo = data[(data[\"Вы пьёте алкоголь?_Пью\"] == 0) & (data[\"Ваш курс.\"] == 3) | (data[\"Ваш курс.\"] == 4)]"
      ],
      "metadata": {
        "id": "jTvWi7_R2zTi"
      },
      "execution_count": 157,
      "outputs": []
    },
    {
      "cell_type": "code",
      "source": [
        "y_per = np.array([len(per_pivo), len(per_nepivo)])\n",
        "perlabels = [\"Пьющие младшекурсники\", \"Непьющие младшекурсники\"]\n",
        "y_star = np.array([len(star_pivo), len(star_nepivo)])\n",
        "starlabels = [\"Пьющие старшекурсники\", \"Непьющие старшекурсники\"]\n",
        "\n",
        "mycolors = [\"pink\", \"skyblue\"]\n",
        "\n",
        "plt.figure(figsize=(18, 8))\n",
        "\n",
        "plt.subplot(1, 2 ,1)\n",
        "_, text, proc = plt.pie(y_per, labels = perlabels, colors = mycolors, autopct='%.1f%%')\n",
        "plt.setp(proc, size = 15, weight =\"bold\")\n",
        "plt.setp(text, size = 15)\n",
        "\n",
        "plt.subplot(1, 2, 2)\n",
        "_, text, proc = plt.pie(y_star, labels = starlabels, colors = mycolors, autopct='%.1f%%')\n",
        "plt.setp(proc, size = 15, weight =\"bold\")\n",
        "plt.setp(text, size = 15)\n",
        "\n",
        "plt.show() "
      ],
      "metadata": {
        "colab": {
          "base_uri": "https://localhost:8080/",
          "height": 466
        },
        "id": "wO6OLbuP5JCU",
        "outputId": "c477aa5d-74b7-4e8a-dd16-1b97009d76f6"
      },
      "execution_count": 158,
      "outputs": [
        {
          "output_type": "display_data",
          "data": {
            "text/plain": [
              "<Figure size 1296x576 with 2 Axes>"
            ],
            "image/png": "[encoded data removed]"
          },
          "metadata": {}
        }
      ]
    },
    {
      "cell_type": "markdown",
      "source": [
        "Играют в компютерные мгры"
      ],
      "metadata": {
        "id": "ssrgA4ClCJgr"
      }
    },
    {
      "cell_type": "code",
      "source": [
        "per_ocmnoga = data[(data[\"Вы пьёте алкоголь?_Пью\"] == 1) & (data[\"Ваш пол?_Мужской\"] == 1)]\n",
        "per_mnoga = data[(data[\"Вы пьёте алкоголь?_Пью\"] == 0) & (data[\"Ваш пол?_Мужской\"] == 1)]\n",
        "per_nemnoga = data[(data[\"Вы пьёте алкоголь?_Пью\"] == 1) & (data[\"Ваш пол?_Мужской\"] == 1)]\n",
        "per_net = data[(data[\"Вы пьёте алкоголь?_Пью\"] == 0) & (data[\"Ваш пол?_Мужской\"] == 1)]\n",
        "\n",
        "star_ocmnoga = data[(data[\"Вы пьёте алкоголь?_Пью\"] == 1) & (data[\"Ваш пол?_Мужской\"] == 0)]\n",
        "star_mnoga = data[(data[\"Вы пьёте алкоголь?_Пью\"] == 0) & (data[\"Ваш пол?_Мужской\"] == 0)]\n",
        "star_nemnoga = data[(data[\"Вы пьёте алкоголь?_Пью\"] == 1) & (data[\"Ваш пол?_Мужской\"] == 0)]\n",
        "star_net = data[(data[\"Вы пьёте алкоголь?_Пью\"] == 0) & (data[\"Ваш пол?_Мужской\"] == 0)]"
      ],
      "metadata": {
        "id": "ZTs87h4UCRjJ"
      },
      "execution_count": 159,
      "outputs": []
    },
    {
      "cell_type": "code",
      "source": [
        "y_per = np.array([len(per_ocmnoga), len(per_mnoga), len(per_nemnoga), len(per_net)])\n",
        "perlabels = [\"Много\", \"Иногда\", \"Редко\", \"Нет\"]\n",
        "y_star = np.array([len(star_pivo), len(star_nepivo), len(star_nemnoga), len(star_net)])\n",
        "starlabels = [\"Много\", \"Иногда\", \"Редко\", \"Нет\"]\n",
        "\n",
        "mycolors = [\"mediumpurple\", \"pink\", \"skyblue\", \"palegreen\"]\n",
        "\n",
        "plt.figure(figsize=(18, 8))\n",
        "\n",
        "plt.subplot(1, 2 ,1)\n",
        "plt.title(\"Мужчины\", fontsize = 20)\n",
        "_, text, proc = plt.pie(y_per, labels = perlabels, colors = mycolors, autopct='%.1f%%')\n",
        "plt.setp(proc, size = 15, weight =\"bold\")\n",
        "plt.setp(text, size = 15)\n",
        "\n",
        "plt.subplot(1, 2, 2)\n",
        "plt.title(\"Женщины\", fontsize = 20)\n",
        "_, text, proc = plt.pie(y_star, labels = starlabels, colors = mycolors, autopct='%.1f%%')\n",
        "plt.setp(proc, size = 15, weight =\"bold\")\n",
        "plt.setp(text, size = 15)\n",
        "\n",
        "plt.show() "
      ],
      "metadata": {
        "colab": {
          "base_uri": "https://localhost:8080/",
          "height": 487
        },
        "id": "AoQCEJB_Cx0S",
        "outputId": "71b8abdd-9d06-47d7-f11d-12fa22f8f550"
      },
      "execution_count": 160,
      "outputs": [
        {
          "output_type": "display_data",
          "data": {
            "text/plain": [
              "<Figure size 1296x576 with 2 Axes>"
            ],
            "image/png": "[encoded data removed]"
          },
          "metadata": {}
        }
      ]
    },
    {
      "cell_type": "code",
      "source": [
        "per_po = data[(data[\"Соблюдаете порядок на рабочем месте?_Нет\"] == 0) & (data[\"Ваш пол?_Мужской\"] == 1)]\n",
        "per_nepo = data[(data[\"Соблюдаете порядок на рабочем месте?_Нет\"] == 1) & (data[\"Ваш пол?_Мужской\"] == 1)]\n",
        "\n",
        "star_po = data[(data[\"Соблюдаете порядок на рабочем месте?_Нет\"] == 0) & (data[\"Ваш пол?_Мужской\"] == 0)]\n",
        "star_nepo = data[(data[\"Соблюдаете порядок на рабочем месте?_Нет\"] == 1) & (data[\"Ваш пол?_Мужской\"] == 0)]"
      ],
      "metadata": {
        "id": "J62-tzPVGVsN"
      },
      "execution_count": 161,
      "outputs": []
    },
    {
      "cell_type": "code",
      "source": [
        "y_per = np.array([len(per_po), len(per_nepo)])\n",
        "perlabels = [\"Соблюдают\", \"Не соблюдают\"]\n",
        "y_star = np.array([len(star_po), len(star_nepo)])\n",
        "starlabels = [\"Соблюдают\", \"Не соблюдают\"]\n",
        "\n",
        "mycolors = [\"mediumpurple\", \"palegreen\"]\n",
        "\n",
        "plt.figure(figsize=(18, 8))\n",
        "\n",
        "plt.subplot(1, 2 ,1)\n",
        "plt.title(\"Мужчины\", fontsize = 20)\n",
        "_, text, proc = plt.pie(y_per, labels = perlabels, colors = mycolors, autopct='%.1f%%')\n",
        "plt.setp(proc, size = 15, weight =\"bold\")\n",
        "plt.setp(text, size = 15)\n",
        "\n",
        "plt.subplot(1, 2, 2)\n",
        "plt.title(\"Женщины\", fontsize = 20)\n",
        "_, text, proc = plt.pie(y_star, labels = starlabels, colors = mycolors, autopct='%.1f%%')\n",
        "plt.setp(proc, size = 15, weight =\"bold\")\n",
        "plt.setp(text, size = 15)\n",
        "\n",
        "plt.show() "
      ],
      "metadata": {
        "colab": {
          "base_uri": "https://localhost:8080/",
          "height": 487
        },
        "id": "HWvUL9jaG9WQ",
        "outputId": "36e732f6-2aac-4163-cb20-c8e8d13ca06e"
      },
      "execution_count": 162,
      "outputs": [
        {
          "output_type": "display_data",
          "data": {
            "text/plain": [
              "<Figure size 1296x576 with 2 Axes>"
            ],
            "image/png": "[encoded data removed]"
          },
          "metadata": {}
        }
      ]
    },
    {
      "cell_type": "markdown",
      "source": [
        "# Матрица корреляций"
      ],
      "metadata": {
        "id": "v9JaWUbRnse3"
      }
    },
    {
      "cell_type": "code",
      "source": [
        "data.corr().style.background_gradient(cmap='coolwarm').set_precision(2)"
      ],
      "metadata": {
        "colab": {
          "base_uri": "https://localhost:8080/",
          "height": 1000
        },
        "id": "Y-QHiPLwnxtS",
        "outputId": "0983380f-8d69-4ea2-c4b6-04a47a5f4d3f"
      },
      "execution_count": 163,
      "outputs": [
        {
          "output_type": "execute_result",
          "data": {
            "text/plain": [
              "<pandas.io.formats.style.Styler at 0x7f205191e810>"
            ],
            "text/html": [
              "<style type=\"text/css\">\n",
              "#T_99534_row0_col0, #T_99534_row1_col1, #T_99534_row2_col2, #T_99534_row3_col3, #T_99534_row4_col4, #T_99534_row5_col5, #T_99534_row6_col6, #T_99534_row7_col7, #T_99534_row8_col8, #T_99534_row9_col9, #T_99534_row10_col10, #T_99534_row11_col11, #T_99534_row12_col12, #T_99534_row13_col13, #T_99534_row14_col14, #T_99534_row15_col15, #T_99534_row16_col16, #T_99534_row17_col17, #T_99534_row18_col18, #T_99534_row19_col19, #T_99534_row20_col20, #T_99534_row21_col21 {\n",
              "  background-color: #b40426;\n",
              "  color: #f1f1f1;\n",
              "}\n",
              "#T_99534_row0_col1, #T_99534_row14_col2 {\n",
              "  background-color: #b2ccfb;\n",
              "  color: #000000;\n",
              "}\n",
              "#T_99534_row0_col2, #T_99534_row5_col9, #T_99534_row17_col1 {\n",
              "  background-color: #d3dbe7;\n",
              "  color: #000000;\n",
              "}\n",
              "#T_99534_row0_col3, #T_99534_row5_col12, #T_99534_row10_col0 {\n",
              "  background-color: #8db0fe;\n",
              "  color: #000000;\n",
              "}\n",
              "#T_99534_row0_col4, #T_99534_row2_col0, #T_99534_row3_col17, #T_99534_row9_col7, #T_99534_row10_col4, #T_99534_row11_col5, #T_99534_row15_col1, #T_99534_row15_col9, #T_99534_row19_col15, #T_99534_row20_col3, #T_99534_row20_col5 {\n",
              "  background-color: #a1c0ff;\n",
              "  color: #000000;\n",
              "}\n",
              "#T_99534_row0_col5, #T_99534_row3_col7, #T_99534_row10_col15, #T_99534_row14_col6 {\n",
              "  background-color: #9abbff;\n",
              "  color: #000000;\n",
              "}\n",
              "#T_99534_row0_col6, #T_99534_row4_col0, #T_99534_row7_col16, #T_99534_row15_col17 {\n",
              "  background-color: #80a3fa;\n",
              "  color: #f1f1f1;\n",
              "}\n",
              "#T_99534_row0_col7, #T_99534_row2_col7, #T_99534_row5_col3, #T_99534_row6_col8, #T_99534_row11_col10, #T_99534_row12_col1, #T_99534_row17_col7, #T_99534_row19_col3, #T_99534_row19_col8 {\n",
              "  background-color: #b7cff9;\n",
              "  color: #000000;\n",
              "}\n",
              "#T_99534_row0_col8, #T_99534_row1_col4, #T_99534_row19_col5, #T_99534_row20_col6 {\n",
              "  background-color: #96b7ff;\n",
              "  color: #000000;\n",
              "}\n",
              "#T_99534_row0_col9, #T_99534_row1_col9, #T_99534_row18_col13, #T_99534_row21_col8 {\n",
              "  background-color: #c9d7f0;\n",
              "  color: #000000;\n",
              "}\n",
              "#T_99534_row0_col10, #T_99534_row7_col2, #T_99534_row15_col4, #T_99534_row15_col8, #T_99534_row15_col10, #T_99534_row15_col13, #T_99534_row17_col9, #T_99534_row17_col11, #T_99534_row19_col13 {\n",
              "  background-color: #c5d6f2;\n",
              "  color: #000000;\n",
              "}\n",
              "#T_99534_row0_col11, #T_99534_row13_col3 {\n",
              "  background-color: #d4dbe6;\n",
              "  color: #000000;\n",
              "}\n",
              "#T_99534_row0_col12, #T_99534_row11_col2 {\n",
              "  background-color: #d8dce2;\n",
              "  color: #000000;\n",
              "}\n",
              "#T_99534_row0_col13, #T_99534_row2_col13, #T_99534_row2_col18, #T_99534_row3_col6, #T_99534_row5_col10, #T_99534_row9_col3, #T_99534_row10_col12 {\n",
              "  background-color: #a3c2fe;\n",
              "  color: #000000;\n",
              "}\n",
              "#T_99534_row0_col14, #T_99534_row1_col19, #T_99534_row2_col20 {\n",
              "  background-color: #4257c9;\n",
              "  color: #f1f1f1;\n",
              "}\n",
              "#T_99534_row0_col15, #T_99534_row3_col10, #T_99534_row14_col5, #T_99534_row16_col5, #T_99534_row18_col5, #T_99534_row18_col9 {\n",
              "  background-color: #a7c5fe;\n",
              "  color: #000000;\n",
              "}\n",
              "#T_99534_row0_col16, #T_99534_row1_col7, #T_99534_row1_col10, #T_99534_row2_col9, #T_99534_row5_col8, #T_99534_row14_col7, #T_99534_row16_col1, #T_99534_row21_col15 {\n",
              "  background-color: #a9c6fd;\n",
              "  color: #000000;\n",
              "}\n",
              "#T_99534_row0_col17, #T_99534_row13_col20, #T_99534_row14_col18, #T_99534_row16_col18 {\n",
              "  background-color: #7699f6;\n",
              "  color: #f1f1f1;\n",
              "}\n",
              "#T_99534_row0_col18, #T_99534_row1_col14, #T_99534_row6_col7, #T_99534_row6_col18 {\n",
              "  background-color: #6485ec;\n",
              "  color: #f1f1f1;\n",
              "}\n",
              "#T_99534_row0_col19 {\n",
              "  background-color: #4055c8;\n",
              "  color: #f1f1f1;\n",
              "}\n",
              "#T_99534_row0_col20, #T_99534_row14_col20 {\n",
              "  background-color: #4f69d9;\n",
              "  color: #f1f1f1;\n",
              "}\n",
              "#T_99534_row0_col21, #T_99534_row1_col2, #T_99534_row1_col3, #T_99534_row2_col1, #T_99534_row5_col7, #T_99534_row5_col19, #T_99534_row7_col4, #T_99534_row7_col5, #T_99534_row7_col6, #T_99534_row7_col15, #T_99534_row8_col9, #T_99534_row8_col18, #T_99534_row8_col20, #T_99534_row9_col8, #T_99534_row9_col10, #T_99534_row11_col12, #T_99534_row11_col13, #T_99534_row11_col14, #T_99534_row11_col20, #T_99534_row12_col17, #T_99534_row13_col11, #T_99534_row17_col16, #T_99534_row20_col19, #T_99534_row21_col0 {\n",
              "  background-color: #3b4cc0;\n",
              "  color: #f1f1f1;\n",
              "}\n",
              "#T_99534_row1_col0, #T_99534_row1_col18, #T_99534_row5_col16, #T_99534_row7_col18, #T_99534_row7_col19, #T_99534_row9_col20, #T_99534_row15_col19 {\n",
              "  background-color: #7093f3;\n",
              "  color: #f1f1f1;\n",
              "}\n",
              "#T_99534_row1_col5, #T_99534_row7_col8, #T_99534_row13_col9, #T_99534_row13_col17, #T_99534_row19_col10, #T_99534_row20_col11, #T_99534_row21_col2 {\n",
              "  background-color: #bed2f6;\n",
              "  color: #000000;\n",
              "}\n",
              "#T_99534_row1_col6, #T_99534_row6_col16, #T_99534_row21_col20 {\n",
              "  background-color: #6b8df0;\n",
              "  color: #f1f1f1;\n",
              "}\n",
              "#T_99534_row1_col8, #T_99534_row7_col9, #T_99534_row8_col1, #T_99534_row11_col1, #T_99534_row12_col9 {\n",
              "  background-color: #b1cbfc;\n",
              "  color: #000000;\n",
              "}\n",
              "#T_99534_row1_col11, #T_99534_row15_col2, #T_99534_row16_col10 {\n",
              "  background-color: #c6d6f1;\n",
              "  color: #000000;\n",
              "}\n",
              "#T_99534_row1_col12, #T_99534_row8_col21, #T_99534_row9_col0, #T_99534_row9_col17, #T_99534_row12_col3 {\n",
              "  background-color: #92b4fe;\n",
              "  color: #000000;\n",
              "}\n",
              "#T_99534_row1_col13 {\n",
              "  background-color: #d5dbe5;\n",
              "  color: #000000;\n",
              "}\n",
              "#T_99534_row1_col15, #T_99534_row3_col14, #T_99534_row7_col21 {\n",
              "  background-color: #688aef;\n",
              "  color: #f1f1f1;\n",
              "}\n",
              "#T_99534_row1_col16, #T_99534_row10_col17, #T_99534_row20_col14, #T_99534_row21_col14 {\n",
              "  background-color: #5d7ce6;\n",
              "  color: #f1f1f1;\n",
              "}\n",
              "#T_99534_row1_col17, #T_99534_row13_col14, #T_99534_row18_col7 {\n",
              "  background-color: #a6c4fe;\n",
              "  color: #000000;\n",
              "}\n",
              "#T_99534_row1_col20, #T_99534_row4_col20, #T_99534_row10_col21, #T_99534_row15_col18, #T_99534_row17_col0 {\n",
              "  background-color: #7295f4;\n",
              "  color: #f1f1f1;\n",
              "}\n",
              "#T_99534_row1_col21, #T_99534_row6_col4, #T_99534_row13_col18 {\n",
              "  background-color: #6c8ff1;\n",
              "  color: #f1f1f1;\n",
              "}\n",
              "#T_99534_row2_col3, #T_99534_row4_col19, #T_99534_row17_col19 {\n",
              "  background-color: #4c66d6;\n",
              "  color: #f1f1f1;\n",
              "}\n",
              "#T_99534_row2_col4, #T_99534_row3_col9, #T_99534_row4_col1, #T_99534_row4_col15, #T_99534_row12_col4, #T_99534_row12_col8, #T_99534_row13_col5, #T_99534_row14_col11, #T_99534_row19_col9 {\n",
              "  background-color: #b5cdfa;\n",
              "  color: #000000;\n",
              "}\n",
              "#T_99534_row2_col5, #T_99534_row8_col6, #T_99534_row16_col15, #T_99534_row18_col15, #T_99534_row21_col6 {\n",
              "  background-color: #84a7fc;\n",
              "  color: #f1f1f1;\n",
              "}\n",
              "#T_99534_row2_col6, #T_99534_row11_col15, #T_99534_row11_col16, #T_99534_row21_col18 {\n",
              "  background-color: #85a8fc;\n",
              "  color: #f1f1f1;\n",
              "}\n",
              "#T_99534_row2_col8, #T_99534_row8_col2, #T_99534_row8_col7, #T_99534_row21_col1, #T_99534_row21_col3, #T_99534_row21_col9, #T_99534_row21_col10 {\n",
              "  background-color: #afcafc;\n",
              "  color: #000000;\n",
              "}\n",
              "#T_99534_row2_col10, #T_99534_row6_col11, #T_99534_row7_col11 {\n",
              "  background-color: #d1dae9;\n",
              "  color: #000000;\n",
              "}\n",
              "#T_99534_row2_col11 {\n",
              "  background-color: #e6d7cf;\n",
              "  color: #000000;\n",
              "}\n",
              "#T_99534_row2_col12, #T_99534_row4_col9, #T_99534_row10_col1, #T_99534_row13_col7 {\n",
              "  background-color: #abc8fd;\n",
              "  color: #000000;\n",
              "}\n",
              "#T_99534_row2_col14, #T_99534_row9_col16 {\n",
              "  background-color: #5977e3;\n",
              "  color: #f1f1f1;\n",
              "}\n",
              "#T_99534_row2_col15, #T_99534_row7_col3, #T_99534_row10_col6 {\n",
              "  background-color: #98b9ff;\n",
              "  color: #000000;\n",
              "}\n",
              "#T_99534_row2_col16, #T_99534_row14_col15, #T_99534_row16_col7, #T_99534_row20_col4, #T_99534_row20_col10 {\n",
              "  background-color: #b3cdfb;\n",
              "  color: #000000;\n",
              "}\n",
              "#T_99534_row2_col17, #T_99534_row7_col20 {\n",
              "  background-color: #3c4ec2;\n",
              "  color: #f1f1f1;\n",
              "}\n",
              "#T_99534_row2_col19, #T_99534_row4_col6 {\n",
              "  background-color: #536edd;\n",
              "  color: #f1f1f1;\n",
              "}\n",
              "#T_99534_row2_col21, #T_99534_row17_col2, #T_99534_row19_col6, #T_99534_row20_col17 {\n",
              "  background-color: #81a4fb;\n",
              "  color: #f1f1f1;\n",
              "}\n",
              "#T_99534_row3_col0, #T_99534_row10_col19, #T_99534_row13_col16, #T_99534_row16_col21 {\n",
              "  background-color: #5b7ae5;\n",
              "  color: #f1f1f1;\n",
              "}\n",
              "#T_99534_row3_col1, #T_99534_row10_col20, #T_99534_row13_col12 {\n",
              "  background-color: #516ddb;\n",
              "  color: #f1f1f1;\n",
              "}\n",
              "#T_99534_row3_col2 {\n",
              "  background-color: #6384eb;\n",
              "  color: #f1f1f1;\n",
              "}\n",
              "#T_99534_row3_col4, #T_99534_row11_col0, #T_99534_row13_col2, #T_99534_row13_col6, #T_99534_row17_col15, #T_99534_row21_col17 {\n",
              "  background-color: #86a9fc;\n",
              "  color: #f1f1f1;\n",
              "}\n",
              "#T_99534_row3_col5, #T_99534_row6_col2, #T_99534_row7_col1, #T_99534_row11_col8, #T_99534_row11_col9, #T_99534_row14_col8, #T_99534_row19_col2 {\n",
              "  background-color: #b9d0f9;\n",
              "  color: #000000;\n",
              "}\n",
              "#T_99534_row3_col8, #T_99534_row9_col1, #T_99534_row12_col0, #T_99534_row20_col9 {\n",
              "  background-color: #cad8ef;\n",
              "  color: #000000;\n",
              "}\n",
              "#T_99534_row3_col11, #T_99534_row15_col3, #T_99534_row18_col1 {\n",
              "  background-color: #b6cefa;\n",
              "  color: #000000;\n",
              "}\n",
              "#T_99534_row3_col12, #T_99534_row5_col21, #T_99534_row8_col16, #T_99534_row12_col16 {\n",
              "  background-color: #7b9ff9;\n",
              "  color: #f1f1f1;\n",
              "}\n",
              "#T_99534_row3_col13 {\n",
              "  background-color: #ead4c8;\n",
              "  color: #000000;\n",
              "}\n",
              "#T_99534_row3_col15, #T_99534_row5_col2, #T_99534_row8_col5, #T_99534_row8_col15, #T_99534_row10_col3, #T_99534_row16_col4, #T_99534_row17_col4, #T_99534_row19_col4 {\n",
              "  background-color: #97b8ff;\n",
              "  color: #000000;\n",
              "}\n",
              "#T_99534_row3_col16, #T_99534_row12_col19 {\n",
              "  background-color: #485fd1;\n",
              "  color: #f1f1f1;\n",
              "}\n",
              "#T_99534_row3_col18, #T_99534_row5_col6, #T_99534_row5_col20, #T_99534_row15_col20 {\n",
              "  background-color: #4a63d3;\n",
              "  color: #f1f1f1;\n",
              "}\n",
              "#T_99534_row3_col19, #T_99534_row19_col16 {\n",
              "  background-color: #6687ed;\n",
              "  color: #f1f1f1;\n",
              "}\n",
              "#T_99534_row3_col20, #T_99534_row4_col7, #T_99534_row9_col19 {\n",
              "  background-color: #4b64d5;\n",
              "  color: #f1f1f1;\n",
              "}\n",
              "#T_99534_row3_col21, #T_99534_row16_col3, #T_99534_row17_col21, #T_99534_row18_col3 {\n",
              "  background-color: #82a6fb;\n",
              "  color: #f1f1f1;\n",
              "}\n",
              "#T_99534_row4_col2, #T_99534_row8_col11, #T_99534_row9_col11 {\n",
              "  background-color: #cdd9ec;\n",
              "  color: #000000;\n",
              "}\n",
              "#T_99534_row4_col3, #T_99534_row21_col12 {\n",
              "  background-color: #93b5fe;\n",
              "  color: #000000;\n",
              "}\n",
              "#T_99534_row4_col5, #T_99534_row5_col14, #T_99534_row9_col18, #T_99534_row17_col18 {\n",
              "  background-color: #5f7fe8;\n",
              "  color: #f1f1f1;\n",
              "}\n",
              "#T_99534_row4_col8, #T_99534_row6_col10, #T_99534_row21_col11 {\n",
              "  background-color: #c4d5f3;\n",
              "  color: #000000;\n",
              "}\n",
              "#T_99534_row4_col10 {\n",
              "  background-color: #bad0f8;\n",
              "  color: #000000;\n",
              "}\n",
              "#T_99534_row4_col11, #T_99534_row6_col13, #T_99534_row7_col13, #T_99534_row10_col11, #T_99534_row10_col18 {\n",
              "  background-color: #cedaeb;\n",
              "  color: #000000;\n",
              "}\n",
              "#T_99534_row4_col12, #T_99534_row6_col9, #T_99534_row10_col7, #T_99534_row13_col10, #T_99534_row14_col9, #T_99534_row16_col0, #T_99534_row18_col4, #T_99534_row21_col4 {\n",
              "  background-color: #aec9fc;\n",
              "  color: #000000;\n",
              "}\n",
              "#T_99534_row4_col13, #T_99534_row17_col8 {\n",
              "  background-color: #c1d4f4;\n",
              "  color: #000000;\n",
              "}\n",
              "#T_99534_row4_col14, #T_99534_row9_col14, #T_99534_row21_col16 {\n",
              "  background-color: #5470de;\n",
              "  color: #f1f1f1;\n",
              "}\n",
              "#T_99534_row4_col16, #T_99534_row9_col21 {\n",
              "  background-color: #6e90f2;\n",
              "  color: #f1f1f1;\n",
              "}\n",
              "#T_99534_row4_col17, #T_99534_row6_col14, #T_99534_row6_col21, #T_99534_row11_col18, #T_99534_row13_col15, #T_99534_row17_col6, #T_99534_row19_col17, #T_99534_row19_col18 {\n",
              "  background-color: #799cf8;\n",
              "  color: #f1f1f1;\n",
              "}\n",
              "#T_99534_row4_col18, #T_99534_row7_col0, #T_99534_row9_col12, #T_99534_row10_col16, #T_99534_row11_col6, #T_99534_row13_col4, #T_99534_row19_col12 {\n",
              "  background-color: #8badfd;\n",
              "  color: #000000;\n",
              "}\n",
              "#T_99534_row4_col21, #T_99534_row7_col17, #T_99534_row14_col4 {\n",
              "  background-color: #90b2fe;\n",
              "  color: #000000;\n",
              "}\n",
              "#T_99534_row5_col0, #T_99534_row6_col20, #T_99534_row11_col19, #T_99534_row14_col16 {\n",
              "  background-color: #6788ee;\n",
              "  color: #f1f1f1;\n",
              "}\n",
              "#T_99534_row5_col1, #T_99534_row12_col2, #T_99534_row20_col1 {\n",
              "  background-color: #cbd8ee;\n",
              "  color: #000000;\n",
              "}\n",
              "#T_99534_row5_col4, #T_99534_row6_col19, #T_99534_row8_col0, #T_99534_row14_col19 {\n",
              "  background-color: #4e68d8;\n",
              "  color: #f1f1f1;\n",
              "}\n",
              "#T_99534_row5_col11, #T_99534_row9_col5, #T_99534_row10_col13 {\n",
              "  background-color: #c7d7f0;\n",
              "  color: #000000;\n",
              "}\n",
              "#T_99534_row5_col13 {\n",
              "  background-color: #d6dce4;\n",
              "  color: #000000;\n",
              "}\n",
              "#T_99534_row5_col15, #T_99534_row6_col1, #T_99534_row12_col5, #T_99534_row14_col17, #T_99534_row16_col9, #T_99534_row17_col5, #T_99534_row20_col8 {\n",
              "  background-color: #a5c3fe;\n",
              "  color: #000000;\n",
              "}\n",
              "#T_99534_row5_col17, #T_99534_row10_col8, #T_99534_row12_col6, #T_99534_row12_col21 {\n",
              "  background-color: #7a9df8;\n",
              "  color: #f1f1f1;\n",
              "}\n",
              "#T_99534_row5_col18, #T_99534_row6_col5, #T_99534_row6_col17, #T_99534_row10_col14 {\n",
              "  background-color: #7396f5;\n",
              "  color: #f1f1f1;\n",
              "}\n",
              "#T_99534_row6_col0, #T_99534_row14_col21, #T_99534_row18_col6, #T_99534_row18_col16, #T_99534_row20_col0 {\n",
              "  background-color: #7597f6;\n",
              "  color: #f1f1f1;\n",
              "}\n",
              "#T_99534_row6_col3 {\n",
              "  background-color: #c0d4f5;\n",
              "  color: #000000;\n",
              "}\n",
              "#T_99534_row6_col12, #T_99534_row7_col12, #T_99534_row12_col11, #T_99534_row18_col21 {\n",
              "  background-color: #89acfd;\n",
              "  color: #000000;\n",
              "}\n",
              "#T_99534_row6_col15, #T_99534_row12_col13, #T_99534_row12_col15, #T_99534_row15_col21 {\n",
              "  background-color: #9ebeff;\n",
              "  color: #000000;\n",
              "}\n",
              "#T_99534_row7_col10, #T_99534_row13_col8, #T_99534_row14_col1 {\n",
              "  background-color: #bbd1f8;\n",
              "  color: #000000;\n",
              "}\n",
              "#T_99534_row7_col14, #T_99534_row8_col14, #T_99534_row15_col7, #T_99534_row18_col14 {\n",
              "  background-color: #6282ea;\n",
              "  color: #f1f1f1;\n",
              "}\n",
              "#T_99534_row8_col3 {\n",
              "  background-color: #bcd2f7;\n",
              "  color: #000000;\n",
              "}\n",
              "#T_99534_row8_col4, #T_99534_row9_col2, #T_99534_row15_col12, #T_99534_row20_col2, #T_99534_row21_col5 {\n",
              "  background-color: #aac7fd;\n",
              "  color: #000000;\n",
              "}\n",
              "#T_99534_row8_col10, #T_99534_row9_col6, #T_99534_row14_col12, #T_99534_row20_col18 {\n",
              "  background-color: #779af7;\n",
              "  color: #f1f1f1;\n",
              "}\n",
              "#T_99534_row8_col12, #T_99534_row20_col12, #T_99534_row20_col21 {\n",
              "  background-color: #8fb1fe;\n",
              "  color: #000000;\n",
              "}\n",
              "#T_99534_row8_col13, #T_99534_row18_col11 {\n",
              "  background-color: #cfdaea;\n",
              "  color: #000000;\n",
              "}\n",
              "#T_99534_row8_col17, #T_99534_row9_col4, #T_99534_row13_col21, #T_99534_row17_col14 {\n",
              "  background-color: #8caffe;\n",
              "  color: #000000;\n",
              "}\n",
              "#T_99534_row8_col19, #T_99534_row12_col20, #T_99534_row17_col12 {\n",
              "  background-color: #506bda;\n",
              "  color: #f1f1f1;\n",
              "}\n",
              "#T_99534_row9_col13, #T_99534_row10_col2 {\n",
              "  background-color: #d2dbe8;\n",
              "  color: #000000;\n",
              "}\n",
              "#T_99534_row9_col15, #T_99534_row11_col21, #T_99534_row18_col0, #T_99534_row18_col17, #T_99534_row19_col0 {\n",
              "  background-color: #6a8bef;\n",
              "  color: #f1f1f1;\n",
              "}\n",
              "#T_99534_row10_col5, #T_99534_row15_col14, #T_99534_row20_col7 {\n",
              "  background-color: #94b6ff;\n",
              "  color: #000000;\n",
              "}\n",
              "#T_99534_row10_col9, #T_99534_row13_col0, #T_99534_row19_col20 {\n",
              "  background-color: #3d50c3;\n",
              "  color: #f1f1f1;\n",
              "}\n",
              "#T_99534_row11_col3, #T_99534_row18_col8, #T_99534_row19_col21 {\n",
              "  background-color: #88abfd;\n",
              "  color: #000000;\n",
              "}\n",
              "#T_99534_row11_col4, #T_99534_row15_col0, #T_99534_row15_col6 {\n",
              "  background-color: #9dbdff;\n",
              "  color: #000000;\n",
              "}\n",
              "#T_99534_row11_col7, #T_99534_row14_col3, #T_99534_row19_col1 {\n",
              "  background-color: #adc9fd;\n",
              "  color: #000000;\n",
              "}\n",
              "#T_99534_row11_col17, #T_99534_row15_col16 {\n",
              "  background-color: #6f92f3;\n",
              "  color: #f1f1f1;\n",
              "}\n",
              "#T_99534_row12_col7 {\n",
              "  background-color: #9fbfff;\n",
              "  color: #000000;\n",
              "}\n",
              "#T_99534_row12_col10, #T_99534_row13_col1, #T_99534_row14_col10, #T_99534_row15_col5, #T_99534_row17_col3 {\n",
              "  background-color: #c3d5f4;\n",
              "  color: #000000;\n",
              "}\n",
              "#T_99534_row12_col14 {\n",
              "  background-color: #445acc;\n",
              "  color: #f1f1f1;\n",
              "}\n",
              "#T_99534_row12_col18 {\n",
              "  background-color: #7ea1fa;\n",
              "  color: #f1f1f1;\n",
              "}\n",
              "#T_99534_row13_col19 {\n",
              "  background-color: #4358cb;\n",
              "  color: #f1f1f1;\n",
              "}\n",
              "#T_99534_row14_col0 {\n",
              "  background-color: #5a78e4;\n",
              "  color: #f1f1f1;\n",
              "}\n",
              "#T_99534_row14_col13 {\n",
              "  background-color: #edd2c3;\n",
              "  color: #000000;\n",
              "}\n",
              "#T_99534_row15_col11 {\n",
              "  background-color: #ccd9ed;\n",
              "  color: #000000;\n",
              "}\n",
              "#T_99534_row16_col2 {\n",
              "  background-color: #e1dad6;\n",
              "  color: #000000;\n",
              "}\n",
              "#T_99534_row16_col6, #T_99534_row20_col15 {\n",
              "  background-color: #7da0f9;\n",
              "  color: #f1f1f1;\n",
              "}\n",
              "#T_99534_row16_col8, #T_99534_row16_col13, #T_99534_row19_col7 {\n",
              "  background-color: #bfd3f6;\n",
              "  color: #000000;\n",
              "}\n",
              "#T_99534_row16_col11, #T_99534_row18_col2, #T_99534_row21_col13 {\n",
              "  background-color: #d7dce3;\n",
              "  color: #000000;\n",
              "}\n",
              "#T_99534_row16_col12, #T_99534_row17_col10, #T_99534_row18_col12, #T_99534_row21_col7 {\n",
              "  background-color: #9bbcff;\n",
              "  color: #000000;\n",
              "}\n",
              "#T_99534_row16_col14 {\n",
              "  background-color: #5673e0;\n",
              "  color: #f1f1f1;\n",
              "}\n",
              "#T_99534_row16_col17 {\n",
              "  background-color: #465ecf;\n",
              "  color: #f1f1f1;\n",
              "}\n",
              "#T_99534_row16_col19 {\n",
              "  background-color: #455cce;\n",
              "  color: #f1f1f1;\n",
              "}\n",
              "#T_99534_row16_col20 {\n",
              "  background-color: #3f53c6;\n",
              "  color: #f1f1f1;\n",
              "}\n",
              "#T_99534_row17_col13 {\n",
              "  background-color: #edd1c2;\n",
              "  color: #000000;\n",
              "}\n",
              "#T_99534_row17_col20, #T_99534_row18_col20 {\n",
              "  background-color: #5875e1;\n",
              "  color: #f1f1f1;\n",
              "}\n",
              "#T_99534_row18_col10 {\n",
              "  background-color: #eed0c0;\n",
              "  color: #000000;\n",
              "}\n",
              "#T_99534_row18_col19 {\n",
              "  background-color: #5572df;\n",
              "  color: #f1f1f1;\n",
              "}\n",
              "#T_99534_row19_col11 {\n",
              "  background-color: #d9dce1;\n",
              "  color: #000000;\n",
              "}\n",
              "#T_99534_row19_col14, #T_99534_row20_col16 {\n",
              "  background-color: #5e7de7;\n",
              "  color: #f1f1f1;\n",
              "}\n",
              "#T_99534_row20_col13 {\n",
              "  background-color: #dedcdb;\n",
              "  color: #000000;\n",
              "}\n",
              "#T_99534_row21_col19 {\n",
              "  background-color: #6180e9;\n",
              "  color: #f1f1f1;\n",
              "}\n",
              "</style>\n",
              "<table id=\"T_99534_\" class=\"dataframe\">\n",
              "  <thead>\n",
              "    <tr>\n",
              "      <th class=\"blank level0\" >&nbsp;</th>\n",
              "      <th class=\"col_heading level0 col0\" >Ваш средний балл. Например 7.38</th>\n",
              "      <th class=\"col_heading level0 col1\" >Кем вы себя считаете?_Амбиверт</th>\n",
              "      <th class=\"col_heading level0 col2\" >Кем вы себя считаете?_Интроверт</th>\n",
              "      <th class=\"col_heading level0 col3\" >Кем вы себя считаете?_Экстраверт</th>\n",
              "      <th class=\"col_heading level0 col4\" >Играете в компьютерные игры?_Да, иногда</th>\n",
              "      <th class=\"col_heading level0 col5\" >Играете в компьютерные игры?_Да, редко</th>\n",
              "      <th class=\"col_heading level0 col6\" >Играете в компьютерные игры?_Да, часто</th>\n",
              "      <th class=\"col_heading level0 col7\" >Играете в компьютерные игры?_Нет</th>\n",
              "      <th class=\"col_heading level0 col8\" >Занимаетесь спортом?_Да, много</th>\n",
              "      <th class=\"col_heading level0 col9\" >Занимаетесь спортом?_Да, немного</th>\n",
              "      <th class=\"col_heading level0 col10\" >Занимаетесь спортом?_Нет</th>\n",
              "      <th class=\"col_heading level0 col11\" >Списываете ли вы домашнее задание?_В основном сам, но бывает, что катаю.</th>\n",
              "      <th class=\"col_heading level0 col12\" >Списываете ли вы домашнее задание?_Делаю почти всё сам</th>\n",
              "      <th class=\"col_heading level0 col13\" >Списываете ли вы домашнее задание?_Катать - это моё)</th>\n",
              "      <th class=\"col_heading level0 col14\" >Ваш курс.</th>\n",
              "      <th class=\"col_heading level0 col15\" >Ваш пол?_Мужской</th>\n",
              "      <th class=\"col_heading level0 col16\" >Вы курите?_Не курю</th>\n",
              "      <th class=\"col_heading level0 col17\" >Вы пьёте алкоголь?_Пью</th>\n",
              "      <th class=\"col_heading level0 col18\" >Часто гуляете на свежем воздухе?_Нет</th>\n",
              "      <th class=\"col_heading level0 col19\" >Много проводите время в соц.сетях?_Нет</th>\n",
              "      <th class=\"col_heading level0 col20\" >Соблюдаете порядок на рабочем месте?_Нет</th>\n",
              "      <th class=\"col_heading level0 col21\" >Была ли у вас золотая медаль в школе?_Нет</th>\n",
              "    </tr>\n",
              "  </thead>\n",
              "  <tbody>\n",
              "    <tr>\n",
              "      <th id=\"T_99534_level0_row0\" class=\"row_heading level0 row0\" >Ваш средний балл. Например 7.38</th>\n",
              "      <td id=\"T_99534_row0_col0\" class=\"data row0 col0\" >1.00</td>\n",
              "      <td id=\"T_99534_row0_col1\" class=\"data row0 col1\" >-0.03</td>\n",
              "      <td id=\"T_99534_row0_col2\" class=\"data row0 col2\" >0.14</td>\n",
              "      <td id=\"T_99534_row0_col3\" class=\"data row0 col3\" >-0.11</td>\n",
              "      <td id=\"T_99534_row0_col4\" class=\"data row0 col4\" >0.02</td>\n",
              "      <td id=\"T_99534_row0_col5\" class=\"data row0 col5\" >-0.07</td>\n",
              "      <td id=\"T_99534_row0_col6\" class=\"data row0 col6\" >-0.02</td>\n",
              "      <td id=\"T_99534_row0_col7\" class=\"data row0 col7\" >0.06</td>\n",
              "      <td id=\"T_99534_row0_col8\" class=\"data row0 col8\" >-0.17</td>\n",
              "      <td id=\"T_99534_row0_col9\" class=\"data row0 col9\" >0.08</td>\n",
              "      <td id=\"T_99534_row0_col10\" class=\"data row0 col10\" >0.07</td>\n",
              "      <td id=\"T_99534_row0_col11\" class=\"data row0 col11\" >0.04</td>\n",
              "      <td id=\"T_99534_row0_col12\" class=\"data row0 col12\" >0.29</td>\n",
              "      <td id=\"T_99534_row0_col13\" class=\"data row0 col13\" >-0.23</td>\n",
              "      <td id=\"T_99534_row0_col14\" class=\"data row0 col14\" >-0.11</td>\n",
              "      <td id=\"T_99534_row0_col15\" class=\"data row0 col15\" >0.12</td>\n",
              "      <td id=\"T_99534_row0_col16\" class=\"data row0 col16\" >0.19</td>\n",
              "      <td id=\"T_99534_row0_col17\" class=\"data row0 col17\" >-0.03</td>\n",
              "      <td id=\"T_99534_row0_col18\" class=\"data row0 col18\" >-0.06</td>\n",
              "      <td id=\"T_99534_row0_col19\" class=\"data row0 col19\" >-0.06</td>\n",
              "      <td id=\"T_99534_row0_col20\" class=\"data row0 col20\" >-0.02</td>\n",
              "      <td id=\"T_99534_row0_col21\" class=\"data row0 col21\" >-0.25</td>\n",
              "    </tr>\n",
              "    <tr>\n",
              "      <th id=\"T_99534_level0_row1\" class=\"row_heading level0 row1\" >Кем вы себя считаете?_Амбиверт</th>\n",
              "      <td id=\"T_99534_row1_col0\" class=\"data row1 col0\" >-0.03</td>\n",
              "      <td id=\"T_99534_row1_col1\" class=\"data row1 col1\" >1.00</td>\n",
              "      <td id=\"T_99534_row1_col2\" class=\"data row1 col2\" >-0.61</td>\n",
              "      <td id=\"T_99534_row1_col3\" class=\"data row1 col3\" >-0.49</td>\n",
              "      <td id=\"T_99534_row1_col4\" class=\"data row1 col4\" >-0.02</td>\n",
              "      <td id=\"T_99534_row1_col5\" class=\"data row1 col5\" >0.09</td>\n",
              "      <td id=\"T_99534_row1_col6\" class=\"data row1 col6\" >-0.10</td>\n",
              "      <td id=\"T_99534_row1_col7\" class=\"data row1 col7\" >-0.00</td>\n",
              "      <td id=\"T_99534_row1_col8\" class=\"data row1 col8\" >-0.04</td>\n",
              "      <td id=\"T_99534_row1_col9\" class=\"data row1 col9\" >0.08</td>\n",
              "      <td id=\"T_99534_row1_col10\" class=\"data row1 col10\" >-0.06</td>\n",
              "      <td id=\"T_99534_row1_col11\" class=\"data row1 col11\" >-0.04</td>\n",
              "      <td id=\"T_99534_row1_col12\" class=\"data row1 col12\" >-0.01</td>\n",
              "      <td id=\"T_99534_row1_col13\" class=\"data row1 col13\" >0.05</td>\n",
              "      <td id=\"T_99534_row1_col14\" class=\"data row1 col14\" >0.01</td>\n",
              "      <td id=\"T_99534_row1_col15\" class=\"data row1 col15\" >-0.11</td>\n",
              "      <td id=\"T_99534_row1_col16\" class=\"data row1 col16\" >-0.08</td>\n",
              "      <td id=\"T_99534_row1_col17\" class=\"data row1 col17\" >0.14</td>\n",
              "      <td id=\"T_99534_row1_col18\" class=\"data row1 col18\" >-0.01</td>\n",
              "      <td id=\"T_99534_row1_col19\" class=\"data row1 col19\" >-0.06</td>\n",
              "      <td id=\"T_99534_row1_col20\" class=\"data row1 col20\" >0.09</td>\n",
              "      <td id=\"T_99534_row1_col21\" class=\"data row1 col21\" >-0.05</td>\n",
              "    </tr>\n",
              "    <tr>\n",
              "      <th id=\"T_99534_level0_row2\" class=\"row_heading level0 row2\" >Кем вы себя считаете?_Интроверт</th>\n",
              "      <td id=\"T_99534_row2_col0\" class=\"data row2 col0\" >0.14</td>\n",
              "      <td id=\"T_99534_row2_col1\" class=\"data row2 col1\" >-0.61</td>\n",
              "      <td id=\"T_99534_row2_col2\" class=\"data row2 col2\" >1.00</td>\n",
              "      <td id=\"T_99534_row2_col3\" class=\"data row2 col3\" >-0.40</td>\n",
              "      <td id=\"T_99534_row2_col4\" class=\"data row2 col4\" >0.10</td>\n",
              "      <td id=\"T_99534_row2_col5\" class=\"data row2 col5\" >-0.16</td>\n",
              "      <td id=\"T_99534_row2_col6\" class=\"data row2 col6\" >0.00</td>\n",
              "      <td id=\"T_99534_row2_col7\" class=\"data row2 col7\" >0.06</td>\n",
              "      <td id=\"T_99534_row2_col8\" class=\"data row2 col8\" >-0.04</td>\n",
              "      <td id=\"T_99534_row2_col9\" class=\"data row2 col9\" >-0.07</td>\n",
              "      <td id=\"T_99534_row2_col10\" class=\"data row2 col10\" >0.13</td>\n",
              "      <td id=\"T_99534_row2_col11\" class=\"data row2 col11\" >0.17</td>\n",
              "      <td id=\"T_99534_row2_col12\" class=\"data row2 col12\" >0.09</td>\n",
              "      <td id=\"T_99534_row2_col13\" class=\"data row2 col13\" >-0.24</td>\n",
              "      <td id=\"T_99534_row2_col14\" class=\"data row2 col14\" >-0.03</td>\n",
              "      <td id=\"T_99534_row2_col15\" class=\"data row2 col15\" >0.07</td>\n",
              "      <td id=\"T_99534_row2_col16\" class=\"data row2 col16\" >0.23</td>\n",
              "      <td id=\"T_99534_row2_col17\" class=\"data row2 col17\" >-0.26</td>\n",
              "      <td id=\"T_99534_row2_col18\" class=\"data row2 col18\" >0.16</td>\n",
              "      <td id=\"T_99534_row2_col19\" class=\"data row2 col19\" >0.00</td>\n",
              "      <td id=\"T_99534_row2_col20\" class=\"data row2 col20\" >-0.07</td>\n",
              "      <td id=\"T_99534_row2_col21\" class=\"data row2 col21\" >0.02</td>\n",
              "    </tr>\n",
              "    <tr>\n",
              "      <th id=\"T_99534_level0_row3\" class=\"row_heading level0 row3\" >Кем вы себя считаете?_Экстраверт</th>\n",
              "      <td id=\"T_99534_row3_col0\" class=\"data row3 col0\" >-0.11</td>\n",
              "      <td id=\"T_99534_row3_col1\" class=\"data row3 col1\" >-0.49</td>\n",
              "      <td id=\"T_99534_row3_col2\" class=\"data row3 col2\" >-0.40</td>\n",
              "      <td id=\"T_99534_row3_col3\" class=\"data row3 col3\" >1.00</td>\n",
              "      <td id=\"T_99534_row3_col4\" class=\"data row3 col4\" >-0.09</td>\n",
              "      <td id=\"T_99534_row3_col5\" class=\"data row3 col5\" >0.07</td>\n",
              "      <td id=\"T_99534_row3_col6\" class=\"data row3 col6\" >0.11</td>\n",
              "      <td id=\"T_99534_row3_col7\" class=\"data row3 col7\" >-0.07</td>\n",
              "      <td id=\"T_99534_row3_col8\" class=\"data row3 col8\" >0.09</td>\n",
              "      <td id=\"T_99534_row3_col9\" class=\"data row3 col9\" >-0.02</td>\n",
              "      <td id=\"T_99534_row3_col10\" class=\"data row3 col10\" >-0.07</td>\n",
              "      <td id=\"T_99534_row3_col11\" class=\"data row3 col11\" >-0.14</td>\n",
              "      <td id=\"T_99534_row3_col12\" class=\"data row3 col12\" >-0.09</td>\n",
              "      <td id=\"T_99534_row3_col13\" class=\"data row3 col13\" >0.20</td>\n",
              "      <td id=\"T_99534_row3_col14\" class=\"data row3 col14\" >0.02</td>\n",
              "      <td id=\"T_99534_row3_col15\" class=\"data row3 col15\" >0.06</td>\n",
              "      <td id=\"T_99534_row3_col16\" class=\"data row3 col16\" >-0.16</td>\n",
              "      <td id=\"T_99534_row3_col17\" class=\"data row3 col17\" >0.12</td>\n",
              "      <td id=\"T_99534_row3_col18\" class=\"data row3 col18\" >-0.16</td>\n",
              "      <td id=\"T_99534_row3_col19\" class=\"data row3 col19\" >0.06</td>\n",
              "      <td id=\"T_99534_row3_col20\" class=\"data row3 col20\" >-0.03</td>\n",
              "      <td id=\"T_99534_row3_col21\" class=\"data row3 col21\" >0.03</td>\n",
              "    </tr>\n",
              "    <tr>\n",
              "      <th id=\"T_99534_level0_row4\" class=\"row_heading level0 row4\" >Играете в компьютерные игры?_Да, иногда</th>\n",
              "      <td id=\"T_99534_row4_col0\" class=\"data row4 col0\" >0.02</td>\n",
              "      <td id=\"T_99534_row4_col1\" class=\"data row4 col1\" >-0.02</td>\n",
              "      <td id=\"T_99534_row4_col2\" class=\"data row4 col2\" >0.10</td>\n",
              "      <td id=\"T_99534_row4_col3\" class=\"data row4 col3\" >-0.09</td>\n",
              "      <td id=\"T_99534_row4_col4\" class=\"data row4 col4\" >1.00</td>\n",
              "      <td id=\"T_99534_row4_col5\" class=\"data row4 col5\" >-0.32</td>\n",
              "      <td id=\"T_99534_row4_col6\" class=\"data row4 col6\" >-0.19</td>\n",
              "      <td id=\"T_99534_row4_col7\" class=\"data row4 col7\" >-0.41</td>\n",
              "      <td id=\"T_99534_row4_col8\" class=\"data row4 col8\" >0.06</td>\n",
              "      <td id=\"T_99534_row4_col9\" class=\"data row4 col9\" >-0.06</td>\n",
              "      <td id=\"T_99534_row4_col10\" class=\"data row4 col10\" >0.02</td>\n",
              "      <td id=\"T_99534_row4_col11\" class=\"data row4 col11\" >0.00</td>\n",
              "      <td id=\"T_99534_row4_col12\" class=\"data row4 col12\" >0.10</td>\n",
              "      <td id=\"T_99534_row4_col13\" class=\"data row4 col13\" >-0.07</td>\n",
              "      <td id=\"T_99534_row4_col14\" class=\"data row4 col14\" >-0.05</td>\n",
              "      <td id=\"T_99534_row4_col15\" class=\"data row4 col15\" >0.17</td>\n",
              "      <td id=\"T_99534_row4_col16\" class=\"data row4 col16\" >-0.02</td>\n",
              "      <td id=\"T_99534_row4_col17\" class=\"data row4 col17\" >-0.02</td>\n",
              "      <td id=\"T_99534_row4_col18\" class=\"data row4 col18\" >0.07</td>\n",
              "      <td id=\"T_99534_row4_col19\" class=\"data row4 col19\" >-0.02</td>\n",
              "      <td id=\"T_99534_row4_col20\" class=\"data row4 col20\" >0.10</td>\n",
              "      <td id=\"T_99534_row4_col21\" class=\"data row4 col21\" >0.08</td>\n",
              "    </tr>\n",
              "    <tr>\n",
              "      <th id=\"T_99534_level0_row5\" class=\"row_heading level0 row5\" >Играете в компьютерные игры?_Да, редко</th>\n",
              "      <td id=\"T_99534_row5_col0\" class=\"data row5 col0\" >-0.07</td>\n",
              "      <td id=\"T_99534_row5_col1\" class=\"data row5 col1\" >0.09</td>\n",
              "      <td id=\"T_99534_row5_col2\" class=\"data row5 col2\" >-0.16</td>\n",
              "      <td id=\"T_99534_row5_col3\" class=\"data row5 col3\" >0.07</td>\n",
              "      <td id=\"T_99534_row5_col4\" class=\"data row5 col4\" >-0.32</td>\n",
              "      <td id=\"T_99534_row5_col5\" class=\"data row5 col5\" >1.00</td>\n",
              "      <td id=\"T_99534_row5_col6\" class=\"data row5 col6\" >-0.23</td>\n",
              "      <td id=\"T_99534_row5_col7\" class=\"data row5 col7\" >-0.50</td>\n",
              "      <td id=\"T_99534_row5_col8\" class=\"data row5 col8\" >-0.08</td>\n",
              "      <td id=\"T_99534_row5_col9\" class=\"data row5 col9\" >0.14</td>\n",
              "      <td id=\"T_99534_row5_col10\" class=\"data row5 col10\" >-0.09</td>\n",
              "      <td id=\"T_99534_row5_col11\" class=\"data row5 col11\" >-0.04</td>\n",
              "      <td id=\"T_99534_row5_col12\" class=\"data row5 col12\" >-0.02</td>\n",
              "      <td id=\"T_99534_row5_col13\" class=\"data row5 col13\" >0.05</td>\n",
              "      <td id=\"T_99534_row5_col14\" class=\"data row5 col14\" >-0.01</td>\n",
              "      <td id=\"T_99534_row5_col15\" class=\"data row5 col15\" >0.11</td>\n",
              "      <td id=\"T_99534_row5_col16\" class=\"data row5 col16\" >-0.01</td>\n",
              "      <td id=\"T_99534_row5_col17\" class=\"data row5 col17\" >-0.02</td>\n",
              "      <td id=\"T_99534_row5_col18\" class=\"data row5 col18\" >-0.01</td>\n",
              "      <td id=\"T_99534_row5_col19\" class=\"data row5 col19\" >-0.08</td>\n",
              "      <td id=\"T_99534_row5_col20\" class=\"data row5 col20\" >-0.04</td>\n",
              "      <td id=\"T_99534_row5_col21\" class=\"data row5 col21\" >0.00</td>\n",
              "    </tr>\n",
              "    <tr>\n",
              "      <th id=\"T_99534_level0_row6\" class=\"row_heading level0 row6\" >Играете в компьютерные игры?_Да, часто</th>\n",
              "      <td id=\"T_99534_row6_col0\" class=\"data row6 col0\" >-0.02</td>\n",
              "      <td id=\"T_99534_row6_col1\" class=\"data row6 col1\" >-0.10</td>\n",
              "      <td id=\"T_99534_row6_col2\" class=\"data row6 col2\" >0.00</td>\n",
              "      <td id=\"T_99534_row6_col3\" class=\"data row6 col3\" >0.11</td>\n",
              "      <td id=\"T_99534_row6_col4\" class=\"data row6 col4\" >-0.19</td>\n",
              "      <td id=\"T_99534_row6_col5\" class=\"data row6 col5\" >-0.23</td>\n",
              "      <td id=\"T_99534_row6_col6\" class=\"data row6 col6\" >1.00</td>\n",
              "      <td id=\"T_99534_row6_col7\" class=\"data row6 col7\" >-0.30</td>\n",
              "      <td id=\"T_99534_row6_col8\" class=\"data row6 col8\" >-0.01</td>\n",
              "      <td id=\"T_99534_row6_col9\" class=\"data row6 col9\" >-0.05</td>\n",
              "      <td id=\"T_99534_row6_col10\" class=\"data row6 col10\" >0.07</td>\n",
              "      <td id=\"T_99534_row6_col11\" class=\"data row6 col11\" >0.02</td>\n",
              "      <td id=\"T_99534_row6_col12\" class=\"data row6 col12\" >-0.04</td>\n",
              "      <td id=\"T_99534_row6_col13\" class=\"data row6 col13\" >0.01</td>\n",
              "      <td id=\"T_99534_row6_col14\" class=\"data row6 col14\" >0.07</td>\n",
              "      <td id=\"T_99534_row6_col15\" class=\"data row6 col15\" >0.08</td>\n",
              "      <td id=\"T_99534_row6_col16\" class=\"data row6 col16\" >-0.03</td>\n",
              "      <td id=\"T_99534_row6_col17\" class=\"data row6 col17\" >-0.04</td>\n",
              "      <td id=\"T_99534_row6_col18\" class=\"data row6 col18\" >-0.06</td>\n",
              "      <td id=\"T_99534_row6_col19\" class=\"data row6 col19\" >-0.01</td>\n",
              "      <td id=\"T_99534_row6_col20\" class=\"data row6 col20\" >0.06</td>\n",
              "      <td id=\"T_99534_row6_col21\" class=\"data row6 col21\" >-0.01</td>\n",
              "    </tr>\n",
              "    <tr>\n",
              "      <th id=\"T_99534_level0_row7\" class=\"row_heading level0 row7\" >Играете в компьютерные игры?_Нет</th>\n",
              "      <td id=\"T_99534_row7_col0\" class=\"data row7 col0\" >0.06</td>\n",
              "      <td id=\"T_99534_row7_col1\" class=\"data row7 col1\" >-0.00</td>\n",
              "      <td id=\"T_99534_row7_col2\" class=\"data row7 col2\" >0.06</td>\n",
              "      <td id=\"T_99534_row7_col3\" class=\"data row7 col3\" >-0.07</td>\n",
              "      <td id=\"T_99534_row7_col4\" class=\"data row7 col4\" >-0.41</td>\n",
              "      <td id=\"T_99534_row7_col5\" class=\"data row7 col5\" >-0.50</td>\n",
              "      <td id=\"T_99534_row7_col6\" class=\"data row7 col6\" >-0.30</td>\n",
              "      <td id=\"T_99534_row7_col7\" class=\"data row7 col7\" >1.00</td>\n",
              "      <td id=\"T_99534_row7_col8\" class=\"data row7 col8\" >0.02</td>\n",
              "      <td id=\"T_99534_row7_col9\" class=\"data row7 col9\" >-0.04</td>\n",
              "      <td id=\"T_99534_row7_col10\" class=\"data row7 col10\" >0.02</td>\n",
              "      <td id=\"T_99534_row7_col11\" class=\"data row7 col11\" >0.02</td>\n",
              "      <td id=\"T_99534_row7_col12\" class=\"data row7 col12\" >-0.04</td>\n",
              "      <td id=\"T_99534_row7_col13\" class=\"data row7 col13\" >0.01</td>\n",
              "      <td id=\"T_99534_row7_col14\" class=\"data row7 col14\" >-0.00</td>\n",
              "      <td id=\"T_99534_row7_col15\" class=\"data row7 col15\" >-0.30</td>\n",
              "      <td id=\"T_99534_row7_col16\" class=\"data row7 col16\" >0.04</td>\n",
              "      <td id=\"T_99534_row7_col17\" class=\"data row7 col17\" >0.06</td>\n",
              "      <td id=\"T_99534_row7_col18\" class=\"data row7 col18\" >-0.01</td>\n",
              "      <td id=\"T_99534_row7_col19\" class=\"data row7 col19\" >0.10</td>\n",
              "      <td id=\"T_99534_row7_col20\" class=\"data row7 col20\" >-0.09</td>\n",
              "      <td id=\"T_99534_row7_col21\" class=\"data row7 col21\" >-0.06</td>\n",
              "    </tr>\n",
              "    <tr>\n",
              "      <th id=\"T_99534_level0_row8\" class=\"row_heading level0 row8\" >Занимаетесь спортом?_Да, много</th>\n",
              "      <td id=\"T_99534_row8_col0\" class=\"data row8 col0\" >-0.17</td>\n",
              "      <td id=\"T_99534_row8_col1\" class=\"data row8 col1\" >-0.04</td>\n",
              "      <td id=\"T_99534_row8_col2\" class=\"data row8 col2\" >-0.04</td>\n",
              "      <td id=\"T_99534_row8_col3\" class=\"data row8 col3\" >0.09</td>\n",
              "      <td id=\"T_99534_row8_col4\" class=\"data row8 col4\" >0.06</td>\n",
              "      <td id=\"T_99534_row8_col5\" class=\"data row8 col5\" >-0.08</td>\n",
              "      <td id=\"T_99534_row8_col6\" class=\"data row8 col6\" >-0.01</td>\n",
              "      <td id=\"T_99534_row8_col7\" class=\"data row8 col7\" >0.02</td>\n",
              "      <td id=\"T_99534_row8_col8\" class=\"data row8 col8\" >1.00</td>\n",
              "      <td id=\"T_99534_row8_col9\" class=\"data row8 col9\" >-0.60</td>\n",
              "      <td id=\"T_99534_row8_col10\" class=\"data row8 col10\" >-0.29</td>\n",
              "      <td id=\"T_99534_row8_col11\" class=\"data row8 col11\" >0.00</td>\n",
              "      <td id=\"T_99534_row8_col12\" class=\"data row8 col12\" >-0.02</td>\n",
              "      <td id=\"T_99534_row8_col13\" class=\"data row8 col13\" >0.01</td>\n",
              "      <td id=\"T_99534_row8_col14\" class=\"data row8 col14\" >0.00</td>\n",
              "      <td id=\"T_99534_row8_col15\" class=\"data row8 col15\" >0.06</td>\n",
              "      <td id=\"T_99534_row8_col16\" class=\"data row8 col16\" >0.03</td>\n",
              "      <td id=\"T_99534_row8_col17\" class=\"data row8 col17\" >0.05</td>\n",
              "      <td id=\"T_99534_row8_col18\" class=\"data row8 col18\" >-0.22</td>\n",
              "      <td id=\"T_99534_row8_col19\" class=\"data row8 col19\" >-0.01</td>\n",
              "      <td id=\"T_99534_row8_col20\" class=\"data row8 col20\" >-0.09</td>\n",
              "      <td id=\"T_99534_row8_col21\" class=\"data row8 col21\" >0.08</td>\n",
              "    </tr>\n",
              "    <tr>\n",
              "      <th id=\"T_99534_level0_row9\" class=\"row_heading level0 row9\" >Занимаетесь спортом?_Да, немного</th>\n",
              "      <td id=\"T_99534_row9_col0\" class=\"data row9 col0\" >0.08</td>\n",
              "      <td id=\"T_99534_row9_col1\" class=\"data row9 col1\" >0.08</td>\n",
              "      <td id=\"T_99534_row9_col2\" class=\"data row9 col2\" >-0.07</td>\n",
              "      <td id=\"T_99534_row9_col3\" class=\"data row9 col3\" >-0.02</td>\n",
              "      <td id=\"T_99534_row9_col4\" class=\"data row9 col4\" >-0.06</td>\n",
              "      <td id=\"T_99534_row9_col5\" class=\"data row9 col5\" >0.14</td>\n",
              "      <td id=\"T_99534_row9_col6\" class=\"data row9 col6\" >-0.05</td>\n",
              "      <td id=\"T_99534_row9_col7\" class=\"data row9 col7\" >-0.04</td>\n",
              "      <td id=\"T_99534_row9_col8\" class=\"data row9 col8\" >-0.60</td>\n",
              "      <td id=\"T_99534_row9_col9\" class=\"data row9 col9\" >1.00</td>\n",
              "      <td id=\"T_99534_row9_col10\" class=\"data row9 col10\" >-0.59</td>\n",
              "      <td id=\"T_99534_row9_col11\" class=\"data row9 col11\" >-0.00</td>\n",
              "      <td id=\"T_99534_row9_col12\" class=\"data row9 col12\" >-0.04</td>\n",
              "      <td id=\"T_99534_row9_col13\" class=\"data row9 col13\" >0.02</td>\n",
              "      <td id=\"T_99534_row9_col14\" class=\"data row9 col14\" >-0.05</td>\n",
              "      <td id=\"T_99534_row9_col15\" class=\"data row9 col15\" >-0.11</td>\n",
              "      <td id=\"T_99534_row9_col16\" class=\"data row9 col16\" >-0.09</td>\n",
              "      <td id=\"T_99534_row9_col17\" class=\"data row9 col17\" >0.07</td>\n",
              "      <td id=\"T_99534_row9_col18\" class=\"data row9 col18\" >-0.08</td>\n",
              "      <td id=\"T_99534_row9_col19\" class=\"data row9 col19\" >-0.02</td>\n",
              "      <td id=\"T_99534_row9_col20\" class=\"data row9 col20\" >0.09</td>\n",
              "      <td id=\"T_99534_row9_col21\" class=\"data row9 col21\" >-0.04</td>\n",
              "    </tr>\n",
              "    <tr>\n",
              "      <th id=\"T_99534_level0_row10\" class=\"row_heading level0 row10\" >Занимаетесь спортом?_Нет</th>\n",
              "      <td id=\"T_99534_row10_col0\" class=\"data row10 col0\" >0.07</td>\n",
              "      <td id=\"T_99534_row10_col1\" class=\"data row10 col1\" >-0.06</td>\n",
              "      <td id=\"T_99534_row10_col2\" class=\"data row10 col2\" >0.13</td>\n",
              "      <td id=\"T_99534_row10_col3\" class=\"data row10 col3\" >-0.07</td>\n",
              "      <td id=\"T_99534_row10_col4\" class=\"data row10 col4\" >0.02</td>\n",
              "      <td id=\"T_99534_row10_col5\" class=\"data row10 col5\" >-0.09</td>\n",
              "      <td id=\"T_99534_row10_col6\" class=\"data row10 col6\" >0.07</td>\n",
              "      <td id=\"T_99534_row10_col7\" class=\"data row10 col7\" >0.02</td>\n",
              "      <td id=\"T_99534_row10_col8\" class=\"data row10 col8\" >-0.29</td>\n",
              "      <td id=\"T_99534_row10_col9\" class=\"data row10 col9\" >-0.59</td>\n",
              "      <td id=\"T_99534_row10_col10\" class=\"data row10 col10\" >1.00</td>\n",
              "      <td id=\"T_99534_row10_col11\" class=\"data row10 col11\" >0.00</td>\n",
              "      <td id=\"T_99534_row10_col12\" class=\"data row10 col12\" >0.06</td>\n",
              "      <td id=\"T_99534_row10_col13\" class=\"data row10 col13\" >-0.04</td>\n",
              "      <td id=\"T_99534_row10_col14\" class=\"data row10 col14\" >0.06</td>\n",
              "      <td id=\"T_99534_row10_col15\" class=\"data row10 col15\" >0.07</td>\n",
              "      <td id=\"T_99534_row10_col16\" class=\"data row10 col16\" >0.08</td>\n",
              "      <td id=\"T_99534_row10_col17\" class=\"data row10 col17\" >-0.13</td>\n",
              "      <td id=\"T_99534_row10_col18\" class=\"data row10 col18\" >0.33</td>\n",
              "      <td id=\"T_99534_row10_col19\" class=\"data row10 col19\" >0.03</td>\n",
              "      <td id=\"T_99534_row10_col20\" class=\"data row10 col20\" >-0.01</td>\n",
              "      <td id=\"T_99534_row10_col21\" class=\"data row10 col21\" >-0.03</td>\n",
              "    </tr>\n",
              "    <tr>\n",
              "      <th id=\"T_99534_level0_row11\" class=\"row_heading level0 row11\" >Списываете ли вы домашнее задание?_В основном сам, но бывает, что катаю.</th>\n",
              "      <td id=\"T_99534_row11_col0\" class=\"data row11 col0\" >0.04</td>\n",
              "      <td id=\"T_99534_row11_col1\" class=\"data row11 col1\" >-0.04</td>\n",
              "      <td id=\"T_99534_row11_col2\" class=\"data row11 col2\" >0.17</td>\n",
              "      <td id=\"T_99534_row11_col3\" class=\"data row11 col3\" >-0.14</td>\n",
              "      <td id=\"T_99534_row11_col4\" class=\"data row11 col4\" >0.00</td>\n",
              "      <td id=\"T_99534_row11_col5\" class=\"data row11 col5\" >-0.04</td>\n",
              "      <td id=\"T_99534_row11_col6\" class=\"data row11 col6\" >0.02</td>\n",
              "      <td id=\"T_99534_row11_col7\" class=\"data row11 col7\" >0.02</td>\n",
              "      <td id=\"T_99534_row11_col8\" class=\"data row11 col8\" >0.00</td>\n",
              "      <td id=\"T_99534_row11_col9\" class=\"data row11 col9\" >-0.00</td>\n",
              "      <td id=\"T_99534_row11_col10\" class=\"data row11 col10\" >0.00</td>\n",
              "      <td id=\"T_99534_row11_col11\" class=\"data row11 col11\" >1.00</td>\n",
              "      <td id=\"T_99534_row11_col12\" class=\"data row11 col12\" >-0.37</td>\n",
              "      <td id=\"T_99534_row11_col13\" class=\"data row11 col13\" >-0.80</td>\n",
              "      <td id=\"T_99534_row11_col14\" class=\"data row11 col14\" >-0.15</td>\n",
              "      <td id=\"T_99534_row11_col15\" class=\"data row11 col15\" >-0.01</td>\n",
              "      <td id=\"T_99534_row11_col16\" class=\"data row11 col16\" >0.06</td>\n",
              "      <td id=\"T_99534_row11_col17\" class=\"data row11 col17\" >-0.05</td>\n",
              "      <td id=\"T_99534_row11_col18\" class=\"data row11 col18\" >0.01</td>\n",
              "      <td id=\"T_99534_row11_col19\" class=\"data row11 col19\" >0.07</td>\n",
              "      <td id=\"T_99534_row11_col20\" class=\"data row11 col20\" >-0.09</td>\n",
              "      <td id=\"T_99534_row11_col21\" class=\"data row11 col21\" >-0.06</td>\n",
              "    </tr>\n",
              "    <tr>\n",
              "      <th id=\"T_99534_level0_row12\" class=\"row_heading level0 row12\" >Списываете ли вы домашнее задание?_Делаю почти всё сам</th>\n",
              "      <td id=\"T_99534_row12_col0\" class=\"data row12 col0\" >0.29</td>\n",
              "      <td id=\"T_99534_row12_col1\" class=\"data row12 col1\" >-0.01</td>\n",
              "      <td id=\"T_99534_row12_col2\" class=\"data row12 col2\" >0.09</td>\n",
              "      <td id=\"T_99534_row12_col3\" class=\"data row12 col3\" >-0.09</td>\n",
              "      <td id=\"T_99534_row12_col4\" class=\"data row12 col4\" >0.10</td>\n",
              "      <td id=\"T_99534_row12_col5\" class=\"data row12 col5\" >-0.02</td>\n",
              "      <td id=\"T_99534_row12_col6\" class=\"data row12 col6\" >-0.04</td>\n",
              "      <td id=\"T_99534_row12_col7\" class=\"data row12 col7\" >-0.04</td>\n",
              "      <td id=\"T_99534_row12_col8\" class=\"data row12 col8\" >-0.02</td>\n",
              "      <td id=\"T_99534_row12_col9\" class=\"data row12 col9\" >-0.04</td>\n",
              "      <td id=\"T_99534_row12_col10\" class=\"data row12 col10\" >0.06</td>\n",
              "      <td id=\"T_99534_row12_col11\" class=\"data row12 col11\" >-0.37</td>\n",
              "      <td id=\"T_99534_row12_col12\" class=\"data row12 col12\" >1.00</td>\n",
              "      <td id=\"T_99534_row12_col13\" class=\"data row12 col13\" >-0.26</td>\n",
              "      <td id=\"T_99534_row12_col14\" class=\"data row12 col14\" >-0.11</td>\n",
              "      <td id=\"T_99534_row12_col15\" class=\"data row12 col15\" >0.09</td>\n",
              "      <td id=\"T_99534_row12_col16\" class=\"data row12 col16\" >0.03</td>\n",
              "      <td id=\"T_99534_row12_col17\" class=\"data row12 col17\" >-0.27</td>\n",
              "      <td id=\"T_99534_row12_col18\" class=\"data row12 col18\" >0.03</td>\n",
              "      <td id=\"T_99534_row12_col19\" class=\"data row12 col19\" >-0.03</td>\n",
              "      <td id=\"T_99534_row12_col20\" class=\"data row12 col20\" >-0.02</td>\n",
              "      <td id=\"T_99534_row12_col21\" class=\"data row12 col21\" >-0.00</td>\n",
              "    </tr>\n",
              "    <tr>\n",
              "      <th id=\"T_99534_level0_row13\" class=\"row_heading level0 row13\" >Списываете ли вы домашнее задание?_Катать - это моё)</th>\n",
              "      <td id=\"T_99534_row13_col0\" class=\"data row13 col0\" >-0.23</td>\n",
              "      <td id=\"T_99534_row13_col1\" class=\"data row13 col1\" >0.05</td>\n",
              "      <td id=\"T_99534_row13_col2\" class=\"data row13 col2\" >-0.24</td>\n",
              "      <td id=\"T_99534_row13_col3\" class=\"data row13 col3\" >0.20</td>\n",
              "      <td id=\"T_99534_row13_col4\" class=\"data row13 col4\" >-0.07</td>\n",
              "      <td id=\"T_99534_row13_col5\" class=\"data row13 col5\" >0.05</td>\n",
              "      <td id=\"T_99534_row13_col6\" class=\"data row13 col6\" >0.01</td>\n",
              "      <td id=\"T_99534_row13_col7\" class=\"data row13 col7\" >0.01</td>\n",
              "      <td id=\"T_99534_row13_col8\" class=\"data row13 col8\" >0.01</td>\n",
              "      <td id=\"T_99534_row13_col9\" class=\"data row13 col9\" >0.02</td>\n",
              "      <td id=\"T_99534_row13_col10\" class=\"data row13 col10\" >-0.04</td>\n",
              "      <td id=\"T_99534_row13_col11\" class=\"data row13 col11\" >-0.80</td>\n",
              "      <td id=\"T_99534_row13_col12\" class=\"data row13 col12\" >-0.26</td>\n",
              "      <td id=\"T_99534_row13_col13\" class=\"data row13 col13\" >1.00</td>\n",
              "      <td id=\"T_99534_row13_col14\" class=\"data row13 col14\" >0.22</td>\n",
              "      <td id=\"T_99534_row13_col15\" class=\"data row13 col15\" >-0.05</td>\n",
              "      <td id=\"T_99534_row13_col16\" class=\"data row13 col16\" >-0.08</td>\n",
              "      <td id=\"T_99534_row13_col17\" class=\"data row13 col17\" >0.23</td>\n",
              "      <td id=\"T_99534_row13_col18\" class=\"data row13 col18\" >-0.03</td>\n",
              "      <td id=\"T_99534_row13_col19\" class=\"data row13 col19\" >-0.05</td>\n",
              "      <td id=\"T_99534_row13_col20\" class=\"data row13 col20\" >0.11</td>\n",
              "      <td id=\"T_99534_row13_col21\" class=\"data row13 col21\" >0.06</td>\n",
              "    </tr>\n",
              "    <tr>\n",
              "      <th id=\"T_99534_level0_row14\" class=\"row_heading level0 row14\" >Ваш курс.</th>\n",
              "      <td id=\"T_99534_row14_col0\" class=\"data row14 col0\" >-0.11</td>\n",
              "      <td id=\"T_99534_row14_col1\" class=\"data row14 col1\" >0.01</td>\n",
              "      <td id=\"T_99534_row14_col2\" class=\"data row14 col2\" >-0.03</td>\n",
              "      <td id=\"T_99534_row14_col3\" class=\"data row14 col3\" >0.02</td>\n",
              "      <td id=\"T_99534_row14_col4\" class=\"data row14 col4\" >-0.05</td>\n",
              "      <td id=\"T_99534_row14_col5\" class=\"data row14 col5\" >-0.01</td>\n",
              "      <td id=\"T_99534_row14_col6\" class=\"data row14 col6\" >0.07</td>\n",
              "      <td id=\"T_99534_row14_col7\" class=\"data row14 col7\" >-0.00</td>\n",
              "      <td id=\"T_99534_row14_col8\" class=\"data row14 col8\" >0.00</td>\n",
              "      <td id=\"T_99534_row14_col9\" class=\"data row14 col9\" >-0.05</td>\n",
              "      <td id=\"T_99534_row14_col10\" class=\"data row14 col10\" >0.06</td>\n",
              "      <td id=\"T_99534_row14_col11\" class=\"data row14 col11\" >-0.15</td>\n",
              "      <td id=\"T_99534_row14_col12\" class=\"data row14 col12\" >-0.11</td>\n",
              "      <td id=\"T_99534_row14_col13\" class=\"data row14 col13\" >0.22</td>\n",
              "      <td id=\"T_99534_row14_col14\" class=\"data row14 col14\" >1.00</td>\n",
              "      <td id=\"T_99534_row14_col15\" class=\"data row14 col15\" >0.17</td>\n",
              "      <td id=\"T_99534_row14_col16\" class=\"data row14 col16\" >-0.04</td>\n",
              "      <td id=\"T_99534_row14_col17\" class=\"data row14 col17\" >0.14</td>\n",
              "      <td id=\"T_99534_row14_col18\" class=\"data row14 col18\" >-0.00</td>\n",
              "      <td id=\"T_99534_row14_col19\" class=\"data row14 col19\" >-0.01</td>\n",
              "      <td id=\"T_99534_row14_col20\" class=\"data row14 col20\" >-0.02</td>\n",
              "      <td id=\"T_99534_row14_col21\" class=\"data row14 col21\" >-0.02</td>\n",
              "    </tr>\n",
              "    <tr>\n",
              "      <th id=\"T_99534_level0_row15\" class=\"row_heading level0 row15\" >Ваш пол?_Мужской</th>\n",
              "      <td id=\"T_99534_row15_col0\" class=\"data row15 col0\" >0.12</td>\n",
              "      <td id=\"T_99534_row15_col1\" class=\"data row15 col1\" >-0.11</td>\n",
              "      <td id=\"T_99534_row15_col2\" class=\"data row15 col2\" >0.07</td>\n",
              "      <td id=\"T_99534_row15_col3\" class=\"data row15 col3\" >0.06</td>\n",
              "      <td id=\"T_99534_row15_col4\" class=\"data row15 col4\" >0.17</td>\n",
              "      <td id=\"T_99534_row15_col5\" class=\"data row15 col5\" >0.11</td>\n",
              "      <td id=\"T_99534_row15_col6\" class=\"data row15 col6\" >0.08</td>\n",
              "      <td id=\"T_99534_row15_col7\" class=\"data row15 col7\" >-0.30</td>\n",
              "      <td id=\"T_99534_row15_col8\" class=\"data row15 col8\" >0.06</td>\n",
              "      <td id=\"T_99534_row15_col9\" class=\"data row15 col9\" >-0.11</td>\n",
              "      <td id=\"T_99534_row15_col10\" class=\"data row15 col10\" >0.07</td>\n",
              "      <td id=\"T_99534_row15_col11\" class=\"data row15 col11\" >-0.01</td>\n",
              "      <td id=\"T_99534_row15_col12\" class=\"data row15 col12\" >0.09</td>\n",
              "      <td id=\"T_99534_row15_col13\" class=\"data row15 col13\" >-0.05</td>\n",
              "      <td id=\"T_99534_row15_col14\" class=\"data row15 col14\" >0.17</td>\n",
              "      <td id=\"T_99534_row15_col15\" class=\"data row15 col15\" >1.00</td>\n",
              "      <td id=\"T_99534_row15_col16\" class=\"data row15 col16\" >-0.01</td>\n",
              "      <td id=\"T_99534_row15_col17\" class=\"data row15 col17\" >0.00</td>\n",
              "      <td id=\"T_99534_row15_col18\" class=\"data row15 col18\" >-0.01</td>\n",
              "      <td id=\"T_99534_row15_col19\" class=\"data row15 col19\" >0.10</td>\n",
              "      <td id=\"T_99534_row15_col20\" class=\"data row15 col20\" >-0.04</td>\n",
              "      <td id=\"T_99534_row15_col21\" class=\"data row15 col21\" >0.12</td>\n",
              "    </tr>\n",
              "    <tr>\n",
              "      <th id=\"T_99534_level0_row16\" class=\"row_heading level0 row16\" >Вы курите?_Не курю</th>\n",
              "      <td id=\"T_99534_row16_col0\" class=\"data row16 col0\" >0.19</td>\n",
              "      <td id=\"T_99534_row16_col1\" class=\"data row16 col1\" >-0.08</td>\n",
              "      <td id=\"T_99534_row16_col2\" class=\"data row16 col2\" >0.23</td>\n",
              "      <td id=\"T_99534_row16_col3\" class=\"data row16 col3\" >-0.16</td>\n",
              "      <td id=\"T_99534_row16_col4\" class=\"data row16 col4\" >-0.02</td>\n",
              "      <td id=\"T_99534_row16_col5\" class=\"data row16 col5\" >-0.01</td>\n",
              "      <td id=\"T_99534_row16_col6\" class=\"data row16 col6\" >-0.03</td>\n",
              "      <td id=\"T_99534_row16_col7\" class=\"data row16 col7\" >0.04</td>\n",
              "      <td id=\"T_99534_row16_col8\" class=\"data row16 col8\" >0.03</td>\n",
              "      <td id=\"T_99534_row16_col9\" class=\"data row16 col9\" >-0.09</td>\n",
              "      <td id=\"T_99534_row16_col10\" class=\"data row16 col10\" >0.08</td>\n",
              "      <td id=\"T_99534_row16_col11\" class=\"data row16 col11\" >0.06</td>\n",
              "      <td id=\"T_99534_row16_col12\" class=\"data row16 col12\" >0.03</td>\n",
              "      <td id=\"T_99534_row16_col13\" class=\"data row16 col13\" >-0.08</td>\n",
              "      <td id=\"T_99534_row16_col14\" class=\"data row16 col14\" >-0.04</td>\n",
              "      <td id=\"T_99534_row16_col15\" class=\"data row16 col15\" >-0.01</td>\n",
              "      <td id=\"T_99534_row16_col16\" class=\"data row16 col16\" >1.00</td>\n",
              "      <td id=\"T_99534_row16_col17\" class=\"data row16 col17\" >-0.21</td>\n",
              "      <td id=\"T_99534_row16_col18\" class=\"data row16 col18\" >0.00</td>\n",
              "      <td id=\"T_99534_row16_col19\" class=\"data row16 col19\" >-0.05</td>\n",
              "      <td id=\"T_99534_row16_col20\" class=\"data row16 col20\" >-0.08</td>\n",
              "      <td id=\"T_99534_row16_col21\" class=\"data row16 col21\" >-0.11</td>\n",
              "    </tr>\n",
              "    <tr>\n",
              "      <th id=\"T_99534_level0_row17\" class=\"row_heading level0 row17\" >Вы пьёте алкоголь?_Пью</th>\n",
              "      <td id=\"T_99534_row17_col0\" class=\"data row17 col0\" >-0.03</td>\n",
              "      <td id=\"T_99534_row17_col1\" class=\"data row17 col1\" >0.14</td>\n",
              "      <td id=\"T_99534_row17_col2\" class=\"data row17 col2\" >-0.26</td>\n",
              "      <td id=\"T_99534_row17_col3\" class=\"data row17 col3\" >0.12</td>\n",
              "      <td id=\"T_99534_row17_col4\" class=\"data row17 col4\" >-0.02</td>\n",
              "      <td id=\"T_99534_row17_col5\" class=\"data row17 col5\" >-0.02</td>\n",
              "      <td id=\"T_99534_row17_col6\" class=\"data row17 col6\" >-0.04</td>\n",
              "      <td id=\"T_99534_row17_col7\" class=\"data row17 col7\" >0.06</td>\n",
              "      <td id=\"T_99534_row17_col8\" class=\"data row17 col8\" >0.05</td>\n",
              "      <td id=\"T_99534_row17_col9\" class=\"data row17 col9\" >0.07</td>\n",
              "      <td id=\"T_99534_row17_col10\" class=\"data row17 col10\" >-0.13</td>\n",
              "      <td id=\"T_99534_row17_col11\" class=\"data row17 col11\" >-0.05</td>\n",
              "      <td id=\"T_99534_row17_col12\" class=\"data row17 col12\" >-0.27</td>\n",
              "      <td id=\"T_99534_row17_col13\" class=\"data row17 col13\" >0.23</td>\n",
              "      <td id=\"T_99534_row17_col14\" class=\"data row17 col14\" >0.14</td>\n",
              "      <td id=\"T_99534_row17_col15\" class=\"data row17 col15\" >0.00</td>\n",
              "      <td id=\"T_99534_row17_col16\" class=\"data row17 col16\" >-0.21</td>\n",
              "      <td id=\"T_99534_row17_col17\" class=\"data row17 col17\" >1.00</td>\n",
              "      <td id=\"T_99534_row17_col18\" class=\"data row17 col18\" >-0.08</td>\n",
              "      <td id=\"T_99534_row17_col19\" class=\"data row17 col19\" >-0.02</td>\n",
              "      <td id=\"T_99534_row17_col20\" class=\"data row17 col20\" >0.01</td>\n",
              "      <td id=\"T_99534_row17_col21\" class=\"data row17 col21\" >0.03</td>\n",
              "    </tr>\n",
              "    <tr>\n",
              "      <th id=\"T_99534_level0_row18\" class=\"row_heading level0 row18\" >Часто гуляете на свежем воздухе?_Нет</th>\n",
              "      <td id=\"T_99534_row18_col0\" class=\"data row18 col0\" >-0.06</td>\n",
              "      <td id=\"T_99534_row18_col1\" class=\"data row18 col1\" >-0.01</td>\n",
              "      <td id=\"T_99534_row18_col2\" class=\"data row18 col2\" >0.16</td>\n",
              "      <td id=\"T_99534_row18_col3\" class=\"data row18 col3\" >-0.16</td>\n",
              "      <td id=\"T_99534_row18_col4\" class=\"data row18 col4\" >0.07</td>\n",
              "      <td id=\"T_99534_row18_col5\" class=\"data row18 col5\" >-0.01</td>\n",
              "      <td id=\"T_99534_row18_col6\" class=\"data row18 col6\" >-0.06</td>\n",
              "      <td id=\"T_99534_row18_col7\" class=\"data row18 col7\" >-0.01</td>\n",
              "      <td id=\"T_99534_row18_col8\" class=\"data row18 col8\" >-0.22</td>\n",
              "      <td id=\"T_99534_row18_col9\" class=\"data row18 col9\" >-0.08</td>\n",
              "      <td id=\"T_99534_row18_col10\" class=\"data row18 col10\" >0.33</td>\n",
              "      <td id=\"T_99534_row18_col11\" class=\"data row18 col11\" >0.01</td>\n",
              "      <td id=\"T_99534_row18_col12\" class=\"data row18 col12\" >0.03</td>\n",
              "      <td id=\"T_99534_row18_col13\" class=\"data row18 col13\" >-0.03</td>\n",
              "      <td id=\"T_99534_row18_col14\" class=\"data row18 col14\" >-0.00</td>\n",
              "      <td id=\"T_99534_row18_col15\" class=\"data row18 col15\" >-0.01</td>\n",
              "      <td id=\"T_99534_row18_col16\" class=\"data row18 col16\" >0.00</td>\n",
              "      <td id=\"T_99534_row18_col17\" class=\"data row18 col17\" >-0.08</td>\n",
              "      <td id=\"T_99534_row18_col18\" class=\"data row18 col18\" >1.00</td>\n",
              "      <td id=\"T_99534_row18_col19\" class=\"data row18 col19\" >0.01</td>\n",
              "      <td id=\"T_99534_row18_col20\" class=\"data row18 col20\" >0.01</td>\n",
              "      <td id=\"T_99534_row18_col21\" class=\"data row18 col21\" >0.06</td>\n",
              "    </tr>\n",
              "    <tr>\n",
              "      <th id=\"T_99534_level0_row19\" class=\"row_heading level0 row19\" >Много проводите время в соц.сетях?_Нет</th>\n",
              "      <td id=\"T_99534_row19_col0\" class=\"data row19 col0\" >-0.06</td>\n",
              "      <td id=\"T_99534_row19_col1\" class=\"data row19 col1\" >-0.06</td>\n",
              "      <td id=\"T_99534_row19_col2\" class=\"data row19 col2\" >0.00</td>\n",
              "      <td id=\"T_99534_row19_col3\" class=\"data row19 col3\" >0.06</td>\n",
              "      <td id=\"T_99534_row19_col4\" class=\"data row19 col4\" >-0.02</td>\n",
              "      <td id=\"T_99534_row19_col5\" class=\"data row19 col5\" >-0.08</td>\n",
              "      <td id=\"T_99534_row19_col6\" class=\"data row19 col6\" >-0.01</td>\n",
              "      <td id=\"T_99534_row19_col7\" class=\"data row19 col7\" >0.10</td>\n",
              "      <td id=\"T_99534_row19_col8\" class=\"data row19 col8\" >-0.01</td>\n",
              "      <td id=\"T_99534_row19_col9\" class=\"data row19 col9\" >-0.02</td>\n",
              "      <td id=\"T_99534_row19_col10\" class=\"data row19 col10\" >0.03</td>\n",
              "      <td id=\"T_99534_row19_col11\" class=\"data row19 col11\" >0.07</td>\n",
              "      <td id=\"T_99534_row19_col12\" class=\"data row19 col12\" >-0.03</td>\n",
              "      <td id=\"T_99534_row19_col13\" class=\"data row19 col13\" >-0.05</td>\n",
              "      <td id=\"T_99534_row19_col14\" class=\"data row19 col14\" >-0.01</td>\n",
              "      <td id=\"T_99534_row19_col15\" class=\"data row19 col15\" >0.10</td>\n",
              "      <td id=\"T_99534_row19_col16\" class=\"data row19 col16\" >-0.05</td>\n",
              "      <td id=\"T_99534_row19_col17\" class=\"data row19 col17\" >-0.02</td>\n",
              "      <td id=\"T_99534_row19_col18\" class=\"data row19 col18\" >0.01</td>\n",
              "      <td id=\"T_99534_row19_col19\" class=\"data row19 col19\" >1.00</td>\n",
              "      <td id=\"T_99534_row19_col20\" class=\"data row19 col20\" >-0.08</td>\n",
              "      <td id=\"T_99534_row19_col21\" class=\"data row19 col21\" >0.05</td>\n",
              "    </tr>\n",
              "    <tr>\n",
              "      <th id=\"T_99534_level0_row20\" class=\"row_heading level0 row20\" >Соблюдаете порядок на рабочем месте?_Нет</th>\n",
              "      <td id=\"T_99534_row20_col0\" class=\"data row20 col0\" >-0.02</td>\n",
              "      <td id=\"T_99534_row20_col1\" class=\"data row20 col1\" >0.09</td>\n",
              "      <td id=\"T_99534_row20_col2\" class=\"data row20 col2\" >-0.07</td>\n",
              "      <td id=\"T_99534_row20_col3\" class=\"data row20 col3\" >-0.03</td>\n",
              "      <td id=\"T_99534_row20_col4\" class=\"data row20 col4\" >0.10</td>\n",
              "      <td id=\"T_99534_row20_col5\" class=\"data row20 col5\" >-0.04</td>\n",
              "      <td id=\"T_99534_row20_col6\" class=\"data row20 col6\" >0.06</td>\n",
              "      <td id=\"T_99534_row20_col7\" class=\"data row20 col7\" >-0.09</td>\n",
              "      <td id=\"T_99534_row20_col8\" class=\"data row20 col8\" >-0.09</td>\n",
              "      <td id=\"T_99534_row20_col9\" class=\"data row20 col9\" >0.09</td>\n",
              "      <td id=\"T_99534_row20_col10\" class=\"data row20 col10\" >-0.01</td>\n",
              "      <td id=\"T_99534_row20_col11\" class=\"data row20 col11\" >-0.09</td>\n",
              "      <td id=\"T_99534_row20_col12\" class=\"data row20 col12\" >-0.02</td>\n",
              "      <td id=\"T_99534_row20_col13\" class=\"data row20 col13\" >0.11</td>\n",
              "      <td id=\"T_99534_row20_col14\" class=\"data row20 col14\" >-0.02</td>\n",
              "      <td id=\"T_99534_row20_col15\" class=\"data row20 col15\" >-0.04</td>\n",
              "      <td id=\"T_99534_row20_col16\" class=\"data row20 col16\" >-0.08</td>\n",
              "      <td id=\"T_99534_row20_col17\" class=\"data row20 col17\" >0.01</td>\n",
              "      <td id=\"T_99534_row20_col18\" class=\"data row20 col18\" >0.01</td>\n",
              "      <td id=\"T_99534_row20_col19\" class=\"data row20 col19\" >-0.08</td>\n",
              "      <td id=\"T_99534_row20_col20\" class=\"data row20 col20\" >1.00</td>\n",
              "      <td id=\"T_99534_row20_col21\" class=\"data row20 col21\" >0.07</td>\n",
              "    </tr>\n",
              "    <tr>\n",
              "      <th id=\"T_99534_level0_row21\" class=\"row_heading level0 row21\" >Была ли у вас золотая медаль в школе?_Нет</th>\n",
              "      <td id=\"T_99534_row21_col0\" class=\"data row21 col0\" >-0.25</td>\n",
              "      <td id=\"T_99534_row21_col1\" class=\"data row21 col1\" >-0.05</td>\n",
              "      <td id=\"T_99534_row21_col2\" class=\"data row21 col2\" >0.02</td>\n",
              "      <td id=\"T_99534_row21_col3\" class=\"data row21 col3\" >0.03</td>\n",
              "      <td id=\"T_99534_row21_col4\" class=\"data row21 col4\" >0.08</td>\n",
              "      <td id=\"T_99534_row21_col5\" class=\"data row21 col5\" >0.00</td>\n",
              "      <td id=\"T_99534_row21_col6\" class=\"data row21 col6\" >-0.01</td>\n",
              "      <td id=\"T_99534_row21_col7\" class=\"data row21 col7\" >-0.06</td>\n",
              "      <td id=\"T_99534_row21_col8\" class=\"data row21 col8\" >0.08</td>\n",
              "      <td id=\"T_99534_row21_col9\" class=\"data row21 col9\" >-0.04</td>\n",
              "      <td id=\"T_99534_row21_col10\" class=\"data row21 col10\" >-0.03</td>\n",
              "      <td id=\"T_99534_row21_col11\" class=\"data row21 col11\" >-0.06</td>\n",
              "      <td id=\"T_99534_row21_col12\" class=\"data row21 col12\" >-0.00</td>\n",
              "      <td id=\"T_99534_row21_col13\" class=\"data row21 col13\" >0.06</td>\n",
              "      <td id=\"T_99534_row21_col14\" class=\"data row21 col14\" >-0.02</td>\n",
              "      <td id=\"T_99534_row21_col15\" class=\"data row21 col15\" >0.12</td>\n",
              "      <td id=\"T_99534_row21_col16\" class=\"data row21 col16\" >-0.11</td>\n",
              "      <td id=\"T_99534_row21_col17\" class=\"data row21 col17\" >0.03</td>\n",
              "      <td id=\"T_99534_row21_col18\" class=\"data row21 col18\" >0.06</td>\n",
              "      <td id=\"T_99534_row21_col19\" class=\"data row21 col19\" >0.05</td>\n",
              "      <td id=\"T_99534_row21_col20\" class=\"data row21 col20\" >0.07</td>\n",
              "      <td id=\"T_99534_row21_col21\" class=\"data row21 col21\" >1.00</td>\n",
              "    </tr>\n",
              "  </tbody>\n",
              "</table>\n"
            ]
          },
          "metadata": {},
          "execution_count": 163
        }
      ]
    },
    {
      "cell_type": "markdown",
      "source": [
        "# Обучение модели"
      ],
      "metadata": {
        "id": "QNPhtU2EXkFj"
      }
    },
    {
      "cell_type": "code",
      "source": [
        "from sklearn.model_selection import train_test_split\n",
        "from sklearn import datasets, linear_model\n",
        "from sklearn.metrics import mean_squared_error, r2_score\n",
        "\n",
        "sns.set(font_scale=1.5)"
      ],
      "metadata": {
        "id": "1ydCwL1aXnuG"
      },
      "execution_count": 164,
      "outputs": []
    },
    {
      "cell_type": "code",
      "source": [
        "X = data.iloc[:, 1:]\n",
        "y = df[\"Ваш средний балл. Например 7.38\"]\n",
        "X"
      ],
      "metadata": {
        "id": "HxcYgCdJYzQM"
      },
      "execution_count": 165,
      "outputs": []
    },
    {
      "cell_type": "code",
      "source": [
        "X.shape"
      ],
      "metadata": {
        "colab": {
          "base_uri": "https://localhost:8080/"
        },
        "id": "Bh2wGJdgbNj5",
        "outputId": "366aa668-8e0b-4c87-af93-7cd7804c684c"
      },
      "execution_count": 167,
      "outputs": [
        {
          "output_type": "execute_result",
          "data": {
            "text/plain": [
              "((223, 21), (223, 12))"
            ]
          },
          "metadata": {},
          "execution_count": 167
        }
      ]
    },
    {
      "cell_type": "code",
      "source": [
        "x_train, x_test, y_train, y_test = train_test_split(X.values, y.values, \n",
        "                                                    train_size=0.7,\n",
        "                                                    random_state=42)"
      ],
      "metadata": {
        "id": "m46OqPALboYf"
      },
      "execution_count": 168,
      "outputs": []
    },
    {
      "cell_type": "markdown",
      "source": [
        "# Используем Линейную Регрессию"
      ],
      "metadata": {
        "id": "mAG5GATMyWyu"
      }
    },
    {
      "cell_type": "code",
      "source": [
        "regr = linear_model.LinearRegression()\n",
        "regr.fit(x_train, y_train)\n",
        "\n",
        "train_predictions = regr.predict(x_train) \n",
        "test_predictions = regr.predict(x_test)\n",
        "\n",
        "print(\"Train MSE: {}\".format(mean_squared_error(y_train, train_predictions)))\n",
        "print(\"Test MSE: {}\".format(mean_squared_error(y_test, test_predictions)))\n"
      ],
      "metadata": {
        "colab": {
          "base_uri": "https://localhost:8080/"
        },
        "id": "7YmwmEMqrQrl",
        "outputId": "987cc7f4-69c3-44cf-9dad-bb831ec3d9e1"
      },
      "execution_count": 169,
      "outputs": [
        {
          "output_type": "stream",
          "name": "stdout",
          "text": [
            "Train MSE: 0.7428692310386745\n",
            "Test MSE: 1.1773988115388956\n"
          ]
        }
      ]
    },
    {
      "cell_type": "markdown",
      "source": [
        "# Добавляем Регуляризацию"
      ],
      "metadata": {
        "id": "rLVAYctEyg_s"
      }
    },
    {
      "cell_type": "code",
      "source": [
        "from sklearn.linear_model import ElasticNetCV\n",
        "\n",
        "clf = ElasticNetCV(l1_ratio=[.1, .5, .7, .9, .95, .99, 1], alphas=[.1, 1, 10]) \n",
        "clf.fit(x_train, y_train) \n",
        "\n",
        "train_predictions = clf.predict(x_train) \n",
        "test_predictions = clf.predict(x_test) \n",
        "print(\"Train MSE: {}\".format(mean_squared_error(y_train, train_predictions)))\n",
        "print(\"Test MSE: {}\".format(mean_squared_error(y_test, test_predictions)))"
      ],
      "metadata": {
        "colab": {
          "base_uri": "https://localhost:8080/"
        },
        "id": "23WNja5myzxZ",
        "outputId": "dece3fd2-4b59-438c-930f-9a3d41fce0da"
      },
      "execution_count": 170,
      "outputs": [
        {
          "output_type": "stream",
          "name": "stdout",
          "text": [
            "Train MSE: 0.7888298313344307\n",
            "Test MSE: 1.2626414783045794\n"
          ]
        }
      ]
    }
  ]
}